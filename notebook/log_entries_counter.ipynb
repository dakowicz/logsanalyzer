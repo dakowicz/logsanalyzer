{
 "cells": [
  {
   "cell_type": "code",
   "execution_count": 1,
   "metadata": {
    "collapsed": true,
    "pycharm": {
     "is_executing": false
    }
   },
   "outputs": [],
   "source": [
    "import datetime\n",
    "import itertools\n",
    "\n",
    "import matplotlib.dates as mdates\n",
    "import matplotlib.pyplot as plt\n",
    "%matplotlib inline\n",
    "\n",
    "from ipynb.fs.full.log_entries import get_all_log_entries"
   ]
  },
  {
   "cell_type": "code",
   "execution_count": 2,
   "outputs": [],
   "source": [
    "def plot_log_files_starting_with(file_prefix):\n",
    "    all_log_entries = get_all_log_entries(file_prefix)\n",
    "    \n",
    "    dates = [x['log_date'] for x in all_log_entries]\n",
    "    grouped = itertools.groupby(dates, lambda x: x.date())\n",
    "    count_per_day = [*map(lambda x: to_dates_count(*x), grouped)]\n",
    "    count_per_day.sort(key=lambda x: x[\"log_date\"])\n",
    "    aggregated_dates = [x[\"log_date\"] for x in count_per_day]\n",
    "    \n",
    "    mat_dates = mdates.date2num(aggregated_dates)\n",
    "    mat_values = [x[\"number_of\"] for x in count_per_day]\n",
    "    plt.gca().xaxis.set_major_formatter(mdates.DateFormatter('%Y-%m-%d'))\n",
    "    plt.gca().xaxis.set_major_locator(mdates.DayLocator(interval=7))\n",
    "    plt.plot_date(mat_dates, mat_values, '-o')    \n",
    "    \n",
    "def to_dates_count(x, y):\n",
    "    return dict(log_date=x, number_of=len(list(y)))"
   ],
   "metadata": {
    "collapsed": false,
    "pycharm": {
     "name": "#%%\n",
     "is_executing": false
    }
   }
  },
  {
   "cell_type": "code",
   "execution_count": 3,
   "outputs": [],
   "source": [
    "def plot_log_files_histogram_starting_with(file_prefix):\n",
    "    all_log_entries = get_all_log_entries(file_prefix)\n",
    "    \n",
    "    dates = [x['log_date'] for x in all_log_entries]\n",
    "    dates.sort(key=lambda x: to_total_minutes_time_slot(x))\n",
    "    grouped = itertools.groupby(dates, key=lambda x: to_total_minutes_time_slot(x))\n",
    "    count_per_day = [*map(lambda x: to_time_slots(*x), grouped)]\n",
    "    mat_values = []\n",
    "    for ts in range(0, 49): \n",
    "        number_of = filter(lambda x: x[\"time_slot\"] == ts, count_per_day)\n",
    "        mat_values.append(next(map(lambda x: x[\"number_of\"], number_of), 0))\n",
    "    \n",
    "def to_total_minutes_time_slot(dt,time_slot_minutes = 30):\n",
    "    total_minutes = (dt.hour * 60) + dt.minute\n",
    "    return int(total_minutes / time_slot_minutes)\n",
    "    \n",
    "def to_time_slots(x, y):\n",
    "    return dict(time_slot=x, number_of=len(list(y)))   "
   ],
   "metadata": {
    "collapsed": false,
    "pycharm": {
     "name": "#%%\n",
     "is_executing": false
    }
   }
  },
  {
   "cell_type": "code",
   "execution_count": 4,
   "outputs": [],
   "source": [
    "def plot_log_time_deltas_starting_with(file_prefix):\n",
    "    all_log_entries = get_all_log_entries(file_prefix)\n",
    "    \n",
    "    time_deltas = []\n",
    "    last_entry = None\n",
    "    for entry in all_log_entries:\n",
    "        if last_entry is not None:\n",
    "            time_delta = dict()\n",
    "            time_delta['delta'] = entry['log_date'] - last_entry['log_date']\n",
    "            time_delta['log_date'] = last_entry['log_date']\n",
    "            if time_delta['delta'] > datetime.timedelta(microseconds=1000):\n",
    "                time_deltas.append(time_delta)\n",
    "        last_entry = entry\n",
    "    \n",
    "    time_deltas.sort(key=lambda x: to_total_minutes_time_slot(x['log_date'], time_slot_minutes=24 * 60))\n",
    "    week_days = list(filter(lambda delta: delta['log_date'].isoweekday() < 6, time_deltas))\n",
    "    week_ends = list(filter(lambda delta: delta['log_date'].isoweekday() >= 6, time_deltas))\n",
    "\n",
    "    fig, ax = plt.subplots(figsize=(10, 6))\n",
    "    data = [*map(lambda x: x['delta'].total_seconds(), time_deltas)]\n",
    "    week_days_data = [*map(lambda x: x['delta'].total_seconds(), week_days)]\n",
    "    week_ends_data = [*map(lambda x: x['delta'].total_seconds(), week_ends)]\n",
    "    \n",
    "    ax.boxplot([data, week_days_data, week_ends_data], 0, '')\n",
    "    ax.yaxis.grid(True, linestyle='-', which='major', color='lightgrey',alpha=0.5)\n",
    "    ax.set_xticklabels(['Wszystkie dni', 'Dni robocze', 'Dni przypadające w weekend'] ,fontsize=10)\n",
    "\n",
    "def deltas(x, y):\n",
    "    return [dat['delta'] / datetime.timedelta(seconds=1) for dat in y]"
   ],
   "metadata": {
    "collapsed": false,
    "pycharm": {
     "name": "#%%\n",
     "is_executing": false
    }
   }
  },
  {
   "cell_type": "code",
   "execution_count": null,
   "outputs": [],
   "source": [
    "\n"
   ],
   "metadata": {
    "collapsed": false,
    "pycharm": {
     "name": "#%%\n"
    }
   }
  }
 ],
 "metadata": {
  "kernelspec": {
   "display_name": "Python 3",
   "language": "python",
   "name": "python3"
  },
  "language_info": {
   "codemirror_mode": {
    "name": "ipython",
    "version": 2
   },
   "file_extension": ".py",
   "mimetype": "text/x-python",
   "name": "python",
   "nbconvert_exporter": "python",
   "pygments_lexer": "ipython2",
   "version": "2.7.6"
  },
  "pycharm": {
   "stem_cell": {
    "cell_type": "raw",
    "source": [],
    "metadata": {
     "collapsed": false
    }
   }
  }
 },
 "nbformat": 4,
 "nbformat_minor": 0
}