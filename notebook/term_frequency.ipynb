{
 "cells": [
  {
   "cell_type": "code",
   "execution_count": 4,
   "metadata": {
    "pycharm": {
     "is_executing": false,
     "name": "#%%\n"
    }
   },
   "outputs": [
    {
     "name": "stderr",
     "text": [
      "[nltk_data] Downloading package punkt to\n",
      "[nltk_data]     /Users/tomaszdakowicz2/nltk_data...\n",
      "[nltk_data]   Package punkt is already up-to-date!\n",
      "[nltk_data] Downloading package words to\n",
      "[nltk_data]     /Users/tomaszdakowicz2/nltk_data...\n",
      "[nltk_data]   Package words is already up-to-date!\n",
      "[nltk_data] Downloading package stopwords to\n",
      "[nltk_data]     /Users/tomaszdakowicz2/nltk_data...\n",
      "[nltk_data]   Package stopwords is already up-to-date!\n"
     ],
     "output_type": "stream"
    },
    {
     "data": {
      "text/plain": "True"
     },
     "metadata": {},
     "output_type": "execute_result",
     "execution_count": 4
    }
   ],
   "source": [
    "from collections import Counter\n",
    "\n",
    "import matplotlib.pyplot as plt\n",
    "import nltk\n",
    "from ipynb.fs.full.log_entries import get_all_log_entries\n",
    "\n",
    "nltk.download('punkt')\n",
    "nltk.download('words')\n",
    "nltk.download('stopwords')"
   ]
  },
  {
   "cell_type": "code",
   "execution_count": 5,
   "metadata": {
    "pycharm": {
     "is_executing": false,
     "name": "#%%\n"
    }
   },
   "outputs": [],
   "source": [
    "def get_eng_words_vector_from_logs_starting_with(file_prefix):  \n",
    "    entries = get_all_log_entries(file_prefix)\n",
    "    print(\"Processing \" + len(entries).__str__() + \" log entries\")\n",
    "    word_counter = Counter()\n",
    "    eng_words = {*map(lambda x: x.lower(), nltk.corpus.words.words())}\n",
    "    for entry in entries:\n",
    "        msg = entry['msg']\n",
    "        words = nltk.word_tokenize(msg)\n",
    "        for word in words:\n",
    "            word_counter[word.lower()] += 1  \n",
    "\n",
    "    eng_word_counter = Counter()\n",
    "    for element in word_counter.elements():\n",
    "        if word_counter[element] > 0 and element in eng_words:\n",
    "            eng_word_counter[element] = word_counter[element]\n",
    "    return eng_word_counter"
   ]
  },
  {
   "cell_type": "code",
   "execution_count": 6,
   "outputs": [],
   "source": [
    "def get_eng_words_vector_from_file(filename):  \n",
    "    word_counter = Counter()\n",
    "    eng_words = {*map(lambda x: x.lower(), nltk.corpus.words.words())}\n",
    "    with open('../../' + filename, mode='r') as file:\n",
    "        for word in file:\n",
    "            word_counter[word.strip()] += 1\n",
    "    eng_word_counter = Counter()\n",
    "    for element in word_counter.elements():\n",
    "        if word_counter[element] > 0 and element in eng_words:\n",
    "            eng_word_counter[element] = word_counter[element]\n",
    "    return eng_word_counter"
   ],
   "metadata": {
    "collapsed": false,
    "pycharm": {
     "name": "#%%\n",
     "is_executing": false
    }
   }
  },
  {
   "cell_type": "code",
   "execution_count": 7,
   "outputs": [],
   "source": [
    "def without_stop_words(word_counter):\n",
    "    eng_stop_words = {*map(lambda x: x.lower(), nltk.corpus.stopwords.words('english'))}\n",
    "    eng_word_counter = Counter()\n",
    "    for element in word_counter.elements():\n",
    "        if word_counter[element] > 0 and element not in eng_stop_words:\n",
    "            eng_word_counter[element] = word_counter[element]\n",
    "    return eng_word_counter"
   ],
   "metadata": {
    "collapsed": false,
    "pycharm": {
     "name": "#%%\n",
     "is_executing": false
    }
   }
  },
  {
   "cell_type": "code",
   "execution_count": 8,
   "outputs": [],
   "source": [
    "def plot_counter(cc):\n",
    "    plt.figure(figsize=(10, 6))\n",
    "    plt.plot(\n",
    "        [*map(lambda x: get_count(*x), cc.most_common(25))]\n",
    "    )\n",
    "\n",
    "def plot_all_eng_words(file_prefix):\n",
    "    plot_counter(get_eng_words_vector_from_logs_starting_with(file_prefix))\n",
    "    \n",
    "    \n",
    "def get_count(x, y):\n",
    "    return y"
   ],
   "metadata": {
    "collapsed": false,
    "pycharm": {
     "name": "#%%\n",
     "is_executing": false
    }
   }
  },
  {
   "cell_type": "code",
   "execution_count": null,
   "outputs": [],
   "source": [
    "\n"
   ],
   "metadata": {
    "collapsed": false,
    "pycharm": {
     "name": "#%%\n"
    }
   }
  }
 ],
 "metadata": {
  "kernelspec": {
   "display_name": "Python 3",
   "language": "python",
   "name": "python3"
  },
  "language_info": {
   "codemirror_mode": {
    "name": "ipython",
    "version": 3
   },
   "file_extension": ".py",
   "mimetype": "text/x-python",
   "name": "python",
   "nbconvert_exporter": "python",
   "pygments_lexer": "ipython3",
   "version": "3.7.4"
  },
  "pycharm": {
   "stem_cell": {
    "cell_type": "raw",
    "source": [],
    "metadata": {
     "collapsed": false
    }
   }
  }
 },
 "nbformat": 4,
 "nbformat_minor": 1
}