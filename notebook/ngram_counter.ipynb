{
 "cells": [
  {
   "cell_type": "code",
   "execution_count": 1,
   "metadata": {
    "pycharm": {
     "is_executing": false
    }
   },
   "outputs": [
    {
     "name": "stderr",
     "text": [
      "[nltk_data] Downloading package punkt to\n",
      "[nltk_data]     /Users/tomaszdakowicz2/nltk_data...\n",
      "[nltk_data]   Package punkt is already up-to-date!\n",
      "[nltk_data] Downloading package words to\n",
      "[nltk_data]     /Users/tomaszdakowicz2/nltk_data...\n",
      "[nltk_data]   Package words is already up-to-date!\n",
      "[nltk_data] Downloading package stopwords to\n",
      "[nltk_data]     /Users/tomaszdakowicz2/nltk_data...\n",
      "[nltk_data]   Package stopwords is already up-to-date!\n"
     ],
     "output_type": "stream"
    }
   ],
   "source": [
    "from collections import Counter\n",
    "\n",
    "from ipynb.fs.full.term_frequency import get_eng_words_vector_from_file"
   ]
  },
  {
   "cell_type": "code",
   "execution_count": 2,
   "metadata": {
    "pycharm": {
     "is_executing": false,
     "name": "#%%\n"
    }
   },
   "outputs": [],
   "source": [
    "def is_word(string):\n",
    "    for i in string:\n",
    "        if not i.isalpha():\n",
    "            return False\n",
    "    return True\n",
    "\n",
    "def get_unigram_counter_words_from_all_words_file(filename_prefix):\n",
    "    unigram_counter = Counter()\n",
    "    with open('../../' + filename_prefix + '-all-words.txt', mode='r') as file:\n",
    "        for word in file:\n",
    "            first_word = word.strip()\n",
    "            if is_word(first_word):\n",
    "                unigram_counter[first_word] += 1\n",
    "    return unigram_counter"
   ]
  },
  {
   "cell_type": "code",
   "execution_count": 3,
   "outputs": [],
   "source": [
    "def get_bigram_counter_from_all_words_file(filename_prefix):\n",
    "    eng_words = set(get_eng_words_vector_from_file(filename_prefix + '-all-words.txt'))\n",
    "    bigram_counter = Counter()\n",
    "    with open('../../' + filename_prefix + '-all-words.txt', mode='r') as file:\n",
    "        first_word = file.__next__().strip()\n",
    "        for word in file:\n",
    "            second_word = word.strip()\n",
    "            if first_word in eng_words and second_word in eng_words:\n",
    "                bigram_counter[first_word + \" \" + second_word] += 1\n",
    "            first_word = second_word\n",
    "    return bigram_counter"
   ],
   "metadata": {
    "collapsed": false,
    "pycharm": {
     "name": "#%%\n",
     "is_executing": false
    }
   }
  },
  {
   "cell_type": "code",
   "execution_count": 4,
   "metadata": {
    "pycharm": {
     "is_executing": false
    }
   },
   "outputs": [],
   "source": [
    "def get_bigram_counter_words_from_all_words_file(filename_prefix):\n",
    "    bigram_counter = Counter()\n",
    "    with open('../../' + filename_prefix + '-all-words.txt', mode='r') as file:\n",
    "        first_word = file.__next__().strip()\n",
    "        for word in file:\n",
    "            second_word = word.strip()\n",
    "            if is_word(first_word) and is_word(second_word):\n",
    "                bigram_counter[first_word + \" \" + second_word] += 1\n",
    "            first_word = second_word\n",
    "    return bigram_counter"
   ]
  },
  {
   "cell_type": "code",
   "execution_count": 5,
   "metadata": {
    "pycharm": {
     "is_executing": false,
     "name": "#%%\n"
    }
   },
   "outputs": [],
   "source": [
    "def get_trigram_counter_from_all_words_file(filename_prefix):\n",
    "    eng_words = set(get_eng_words_vector_from_file(filename_prefix + '-all-words.txt'))\n",
    "    counter = Counter()\n",
    "    with open('../../' + filename_prefix + '-all-words.txt', mode='r') as file:\n",
    "        first_word = file.__next__().strip()\n",
    "        second_word = file.__next__().strip()\n",
    "        for word in file:\n",
    "            third_word = word.strip()\n",
    "            if first_word in eng_words and second_word in eng_words and third_word in eng_words:\n",
    "                counter[first_word + \" \" + second_word + \" \" + third_word] += 1\n",
    "            first_word = second_word\n",
    "            second_word = third_word\n",
    "    return counter\n",
    "\n",
    "def get_trigram_counter_words_from_all_words_file(filename_prefix):\n",
    "    counter = Counter()\n",
    "    with open('../../' + filename_prefix + '-all-words.txt', mode='r') as file:\n",
    "        first_word = file.__next__().strip()\n",
    "        second_word = file.__next__().strip()\n",
    "        for word in file:\n",
    "            third_word = word.strip()\n",
    "            if is_word(first_word) and is_word(second_word) and is_word(third_word):\n",
    "                counter[first_word + \" \" + second_word + \" \" + third_word] += 1\n",
    "            first_word = second_word\n",
    "            second_word = third_word\n",
    "    return counter"
   ]
  },
  {
   "cell_type": "code",
   "execution_count": 6,
   "outputs": [],
   "source": [
    "def get_fourgram_counter_words_from_all_words_file(filename_prefix):\n",
    "    counter = Counter()\n",
    "    with open('../../' + filename_prefix + '-all-words.txt', mode='r') as file:\n",
    "        first_word = file.__next__().strip()\n",
    "        second_word = file.__next__().strip()\n",
    "        third_word = file.__next__().strip()\n",
    "        for word in file:\n",
    "            fourth_word = word.strip()\n",
    "            if is_word(first_word) and is_word(second_word) and is_word(third_word) and is_word(fourth_word):\n",
    "                counter[first_word + \" \" + second_word + \" \" + third_word + \" \" + fourth_word] += 1\n",
    "            first_word = second_word\n",
    "            second_word = third_word\n",
    "            third_word = fourth_word\n",
    "    return counter\n"
   ],
   "metadata": {
    "collapsed": false,
    "pycharm": {
     "name": "#%%\n",
     "is_executing": false
    }
   }
  },
  {
   "cell_type": "code",
   "execution_count": 7,
   "outputs": [],
   "source": [
    "def compute_bigram_probabilities(unigrams, bigrams):    \n",
    "    bigram_probabilities = Counter()    \n",
    "    for first_word in unigrams:\n",
    "        for second_word in unigrams:\n",
    "            prob = bigrams[first_word + \" \" + second_word] / unigrams[first_word]\n",
    "            if prob > 0:\n",
    "                bigram_probabilities[second_word + ' | ' + first_word] = prob\n",
    "    \n",
    "    return bigram_probabilities"
   ],
   "metadata": {
    "collapsed": false,
    "pycharm": {
     "name": "#%%\n",
     "is_executing": false
    }
   }
  },
  {
   "cell_type": "code",
   "execution_count": null,
   "outputs": [],
   "source": [
    "\n"
   ],
   "metadata": {
    "collapsed": false,
    "pycharm": {
     "name": "#%%\n"
    }
   }
  }
 ],
 "metadata": {
  "kernelspec": {
   "display_name": "Python 3",
   "language": "python",
   "name": "python3"
  },
  "language_info": {
   "codemirror_mode": {
    "name": "ipython",
    "version": 3
   },
   "file_extension": ".py",
   "mimetype": "text/x-python",
   "name": "python",
   "nbconvert_exporter": "python",
   "pygments_lexer": "ipython3",
   "version": "3.7.4"
  },
  "pycharm": {
   "stem_cell": {
    "cell_type": "raw",
    "source": [],
    "metadata": {
     "collapsed": false
    }
   }
  }
 },
 "nbformat": 4,
 "nbformat_minor": 1
}