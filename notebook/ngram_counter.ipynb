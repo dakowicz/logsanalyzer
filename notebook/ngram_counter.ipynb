{
 "cells": [
  {
   "cell_type": "code",
   "execution_count": null,
   "metadata": {
    "pycharm": {
     "is_executing": false
    }
   },
   "outputs": [],
   "source": [
    "from collections import Counter\n",
    "\n",
    "import matplotlib.pyplot as plt\n",
    "from ipynb.fs.full.term_frequency import get_eng_words_vector_from_file"
   ]
  },
  {
   "cell_type": "code",
   "execution_count": null,
   "metadata": {
    "pycharm": {
     "is_executing": false,
     "name": "#%%\n"
    }
   },
   "outputs": [],
   "source": [
    "def is_word(string):\n",
    "    for i in string:\n",
    "        if not i.isalpha():\n",
    "            return False\n",
    "    return True\n",
    "\n",
    "def get_unigram_counter_words_from_all_words_file(filename_prefix):\n",
    "    unigram_counter = Counter()\n",
    "    with open('../../' + filename_prefix + '-all-words.txt', mode='r') as file:\n",
    "        for word in file:\n",
    "            first_word = word.strip()\n",
    "            if is_word(first_word):\n",
    "                unigram_counter[first_word] += 1\n",
    "    return unigram_counter"
   ]
  },
  {
   "cell_type": "code",
   "execution_count": null,
   "outputs": [],
   "source": [
    "def get_bigram_counter_from_all_words_file(filename_prefix):\n",
    "    eng_words = set(get_eng_words_vector_from_file(filename_prefix + '-all-words.txt'))\n",
    "    bigram_counter = Counter()\n",
    "    with open('../../' + filename_prefix + '-all-words.txt', mode='r') as file:\n",
    "        first_word = file.__next__().strip()\n",
    "        for word in file:\n",
    "            second_word = word.strip()\n",
    "            if first_word in eng_words and second_word in eng_words:\n",
    "                bigram_counter[first_word + \" \" + second_word] += 1\n",
    "            first_word = second_word\n",
    "    return bigram_counter"
   ],
   "metadata": {
    "collapsed": false,
    "pycharm": {
     "name": "#%%\n",
     "is_executing": false
    }
   }
  },
  {
   "cell_type": "code",
   "execution_count": null,
   "metadata": {
    "pycharm": {
     "is_executing": false
    }
   },
   "outputs": [],
   "source": [
    "def get_bigram_counter_words_from_all_words_file(filename_prefix):\n",
    "    bigram_counter = Counter()\n",
    "    with open('../../' + filename_prefix + '-all-words.txt', mode='r') as file:\n",
    "        first_word = file.__next__().strip()\n",
    "        for word in file:\n",
    "            second_word = word.strip()\n",
    "            if is_word(first_word) and is_word(second_word):\n",
    "                bigram_counter[first_word + \" \" + second_word] += 1\n",
    "            first_word = second_word\n",
    "    return bigram_counter"
   ]
  },
  {
   "cell_type": "code",
   "execution_count": null,
   "metadata": {
    "pycharm": {
     "is_executing": false,
     "name": "#%%\n"
    }
   },
   "outputs": [],
   "source": [
    "def get_trigram_counter_from_all_words_file(filename_prefix):\n",
    "    eng_words = set(get_eng_words_vector_from_file(filename_prefix + '-all-words.txt'))\n",
    "    counter = Counter()\n",
    "    with open('../../' + filename_prefix + '-all-words.txt', mode='r') as file:\n",
    "        first_word = file.__next__().strip()\n",
    "        second_word = file.__next__().strip()\n",
    "        for word in file:\n",
    "            third_word = word.strip()\n",
    "            if first_word in eng_words and second_word in eng_words and third_word in eng_words:\n",
    "                counter[first_word + \" \" + second_word + \" \" + third_word] += 1\n",
    "            first_word = second_word\n",
    "            second_word = third_word\n",
    "    return counter\n",
    "\n",
    "def get_trigram_counter_words_from_all_words_file(filename_prefix):\n",
    "    counter = Counter()\n",
    "    with open('../../' + filename_prefix + '-all-words.txt', mode='r') as file:\n",
    "        first_word = file.__next__().strip()\n",
    "        second_word = file.__next__().strip()\n",
    "        for word in file:\n",
    "            third_word = word.strip()\n",
    "            if is_word(first_word) and is_word(second_word) and is_word(third_word):\n",
    "                counter[first_word + \" \" + second_word + \" \" + third_word] += 1\n",
    "            first_word = second_word\n",
    "            second_word = third_word\n",
    "    return counter"
   ]
  },
  {
   "cell_type": "code",
   "execution_count": 20,
   "outputs": [],
   "source": [
    "def get_fourgram_counter_words_from_all_words_file(filename_prefix):\n",
    "    counter = Counter()\n",
    "    with open('../../' + filename_prefix + '-all-words.txt', mode='r') as file:\n",
    "        first_word = file.__next__().strip()\n",
    "        second_word = file.__next__().strip()\n",
    "        third_word = file.__next__().strip()\n",
    "        for word in file:\n",
    "            fourth_word = word.strip()\n",
    "            if is_word(first_word) and is_word(second_word) and is_word(third_word) and is_word(fourth_word):\n",
    "                counter[first_word + \" \" + second_word + \" \" + third_word + \" \" + fourth_word] += 1\n",
    "            first_word = second_word\n",
    "            second_word = third_word\n",
    "            third_word = fourth_word\n",
    "    return counter\n"
   ],
   "metadata": {
    "collapsed": false,
    "pycharm": {
     "name": "#%%\n",
     "is_executing": false
    }
   }
  },
  {
   "cell_type": "code",
   "execution_count": null,
   "outputs": [],
   "source": [
    "def plot_counter(cc):\n",
    "    plt.figure(figsize=(10, 6))\n",
    "    plt.plot(\n",
    "        [*map(lambda x: get_count(*x), cc.most_common(25))]\n",
    "    )\n",
    "    \n",
    "def get_count(x, y):\n",
    "    return y"
   ],
   "metadata": {
    "collapsed": false,
    "pycharm": {
     "name": "#%%\n",
     "is_executing": false
    }
   }
  },
  {
   "cell_type": "code",
   "execution_count": null,
   "metadata": {
    "pycharm": {
     "is_executing": false,
     "name": "#%%\n"
    }
   },
   "outputs": [],
   "source": [
    "get_bigram_counter_words_from_all_words_file('frontend').most_common(40)"
   ]
  },
  {
   "cell_type": "code",
   "execution_count": null,
   "metadata": {},
   "outputs": [],
   "source": [
    "get_bigram_counter_from_all_words_file('timepot').most_common(60)"
   ]
  },
  {
   "cell_type": "code",
   "execution_count": null,
   "metadata": {
    "pycharm": {
     "is_executing": false,
     "name": "#%%\n"
    }
   },
   "outputs": [],
   "source": [
    "get_bigram_counter_words_from_all_words_file('braintree').most_common(10)"
   ]
  },
  {
   "cell_type": "code",
   "execution_count": null,
   "metadata": {
    "pycharm": {
     "is_executing": false,
     "name": "#%%\n"
    }
   },
   "outputs": [],
   "source": [
    "plot_counter(get_bigram_counter_from_all_words_file('frontend'))"
   ]
  },
  {
   "cell_type": "code",
   "execution_count": null,
   "metadata": {
    "pycharm": {
     "is_executing": false,
     "name": "#%%\n"
    }
   },
   "outputs": [],
   "source": [
    "plot_counter(get_bigram_counter_from_all_words_file('timepot'))"
   ]
  },
  {
   "cell_type": "code",
   "execution_count": null,
   "metadata": {
    "pycharm": {
     "is_executing": false,
     "name": "#%%\n"
    }
   },
   "outputs": [],
   "source": [
    "plot_counter(get_bigram_counter_from_all_words_file('braintree'))"
   ]
  },
  {
   "cell_type": "code",
   "execution_count": 8,
   "outputs": [
    {
     "traceback": [
      "\u001b[0;31m---------------------------------------------------------------------------\u001b[0m",
      "\u001b[0;31mKeyboardInterrupt\u001b[0m                         Traceback (most recent call last)",
      "\u001b[0;32m<ipython-input-8-97364589539e>\u001b[0m in \u001b[0;36m<module>\u001b[0;34m\u001b[0m\n\u001b[0;32m----> 1\u001b[0;31m \u001b[0mmessage_unigrams\u001b[0m \u001b[0;34m=\u001b[0m \u001b[0mget_unigram_counter_words_from_all_words_file\u001b[0m\u001b[0;34m(\u001b[0m\u001b[0;34m'message'\u001b[0m\u001b[0;34m)\u001b[0m\u001b[0;34m\u001b[0m\u001b[0;34m\u001b[0m\u001b[0m\n\u001b[0m\u001b[1;32m      2\u001b[0m \u001b[0;31m# message_bigrams = get_bigram_counter_words_from_all_words_file('message')\u001b[0m\u001b[0;34m\u001b[0m\u001b[0;34m\u001b[0m\u001b[0;34m\u001b[0m\u001b[0m\n\u001b[1;32m      3\u001b[0m \u001b[0;34m\u001b[0m\u001b[0m\n",
      "\u001b[0;32m<ipython-input-3-234b7d417931>\u001b[0m in \u001b[0;36mget_unigram_counter_words_from_all_words_file\u001b[0;34m(filename_prefix)\u001b[0m\n\u001b[1;32m     11\u001b[0m             \u001b[0mfirst_word\u001b[0m \u001b[0;34m=\u001b[0m \u001b[0mword\u001b[0m\u001b[0;34m.\u001b[0m\u001b[0mstrip\u001b[0m\u001b[0;34m(\u001b[0m\u001b[0;34m)\u001b[0m\u001b[0;34m\u001b[0m\u001b[0;34m\u001b[0m\u001b[0m\n\u001b[1;32m     12\u001b[0m             \u001b[0;32mif\u001b[0m \u001b[0mis_word\u001b[0m\u001b[0;34m(\u001b[0m\u001b[0mfirst_word\u001b[0m\u001b[0;34m)\u001b[0m\u001b[0;34m:\u001b[0m\u001b[0;34m\u001b[0m\u001b[0;34m\u001b[0m\u001b[0m\n\u001b[0;32m---> 13\u001b[0;31m                 \u001b[0munigram_counter\u001b[0m\u001b[0;34m[\u001b[0m\u001b[0mfirst_word\u001b[0m\u001b[0;34m]\u001b[0m \u001b[0;34m+=\u001b[0m \u001b[0;36m1\u001b[0m\u001b[0;34m\u001b[0m\u001b[0;34m\u001b[0m\u001b[0m\n\u001b[0m\u001b[1;32m     14\u001b[0m     \u001b[0;32mreturn\u001b[0m \u001b[0munigram_counter\u001b[0m\u001b[0;34m\u001b[0m\u001b[0;34m\u001b[0m\u001b[0m\n\u001b[1;32m     15\u001b[0m \u001b[0;34m\u001b[0m\u001b[0m\n",
      "\u001b[0;31mKeyboardInterrupt\u001b[0m: "
     ],
     "ename": "KeyboardInterrupt",
     "evalue": "",
     "output_type": "error"
    }
   ],
   "source": [
    "message_unigrams = get_unigram_counter_words_from_all_words_file('message')"
   ],
   "metadata": {
    "collapsed": false,
    "pycharm": {
     "name": "#%%\n",
     "is_executing": false
    }
   }
  },
  {
   "cell_type": "code",
   "execution_count": 10,
   "outputs": [],
   "source": [
    "def compute_bigram_probabilities(unigrams, bigrams):    \n",
    "    bigram_probabilities = Counter()    \n",
    "    for first_word in unigrams:\n",
    "        for second_word in unigrams:\n",
    "            prob = bigrams[first_word + \" \" + second_word] / unigrams[first_word]\n",
    "            if prob > 0:\n",
    "                bigram_probabilities[second_word + ' | ' + first_word] = prob\n",
    "    \n",
    "    return bigram_probabilities"
   ],
   "metadata": {
    "collapsed": false,
    "pycharm": {
     "name": "#%%\n",
     "is_executing": false
    }
   }
  },
  {
   "cell_type": "code",
   "execution_count": 30,
   "outputs": [
    {
     "name": "stdout",
     "text": [
      "889\n",
      "264\n"
     ],
     "output_type": "stream"
    }
   ],
   "source": [
    "unigrams = get_unigram_counter_words_from_all_words_file('timepot') + \\\n",
    "           get_unigram_counter_words_from_all_words_file('frontend') + \\\n",
    "           get_unigram_counter_words_from_all_words_file('braintree')\n",
    "bigrams = get_bigram_counter_words_from_all_words_file('timepot') + \\\n",
    "           get_bigram_counter_words_from_all_words_file('frontend') + \\\n",
    "           get_bigram_counter_words_from_all_words_file('braintree')\n",
    "total_bigram_probability_counter = compute_bigram_probabilities(unigrams, bigrams)\n",
    "\n",
    "count = 0\n",
    "for w in total_bigram_probability_counter:\n",
    "    if total_bigram_probability_counter[w] == 1.0:\n",
    "        count += 1\n",
    "\n",
    "print(len(set(total_bigram_probability_counter)))\n",
    "print(count)"
   ],
   "metadata": {
    "collapsed": false,
    "pycharm": {
     "name": "#%%\n",
     "is_executing": false
    }
   }
  },
  {
   "cell_type": "code",
   "execution_count": 35,
   "outputs": [
    {
     "data": {
      "text/plain": "[('with | failed', 0.673828125),\n ('to | failed', 0.01953125),\n ('is | exception', 0.015151515151515152),\n ('occurred | error', 0.0107981220657277),\n ('will | exception', 0.005050505050505051),\n ('validation | failed', 0.0048828125),\n ('for | failed', 0.00390625),\n ('updating | error', 0.003755868544600939),\n ('may | error', 0.003755868544600939),\n ('in | failure', 0.0027643400138217),\n ('while | error', 0.0018779342723004694),\n ('has | error', 0.0018779342723004694),\n ('trying | exception', 0.0012626262626262627),\n ('reading | error', 0.0009389671361502347)]"
     },
     "metadata": {},
     "output_type": "execute_result",
     "execution_count": 35
    }
   ],
   "source": [
    "words = Counter()\n",
    "failure_words = ['error', 'fail', 'failure', 'failed', 'unavailable', 'false', 'shutdown', 'exception', 'abnormally']\n",
    "for w in total_bigram_probability_counter:\n",
    "    for fw in failure_words:\n",
    "        if w.endswith(fw):\n",
    "            words[w] = total_bigram_probability_counter[w]\n",
    "            \n",
    "words.most_common()\n",
    "            "
   ],
   "metadata": {
    "collapsed": false,
    "pycharm": {
     "name": "#%%\n",
     "is_executing": false
    }
   }
  },
  {
   "cell_type": "code",
   "execution_count": null,
   "outputs": [],
   "source": [
    "list(filter(lambda x: x[1] < 1.0, total_bigram_probability_counter.most_common()))[:20]"
   ],
   "metadata": {
    "collapsed": false,
    "pycharm": {
     "name": "#%%\n"
    }
   }
  },
  {
   "cell_type": "code",
   "execution_count": null,
   "outputs": [],
   "source": [
    "get_trigram_counter_words_from_all_words_file('timepot').most_common(40)"
   ],
   "metadata": {
    "collapsed": false,
    "pycharm": {
     "name": "#%%\n"
    }
   }
  },
  {
   "cell_type": "code",
   "execution_count": null,
   "outputs": [],
   "source": [
    "get_fourgram_counter_words_from_all_words_file('timepot').most_common(40)"
   ],
   "metadata": {
    "collapsed": false,
    "pycharm": {
     "name": "#%%\n"
    }
   }
  }
 ],
 "metadata": {
  "kernelspec": {
   "display_name": "Python 3",
   "language": "python",
   "name": "python3"
  },
  "language_info": {
   "codemirror_mode": {
    "name": "ipython",
    "version": 3
   },
   "file_extension": ".py",
   "mimetype": "text/x-python",
   "name": "python",
   "nbconvert_exporter": "python",
   "pygments_lexer": "ipython3",
   "version": "3.7.4"
  },
  "pycharm": {
   "stem_cell": {
    "cell_type": "raw",
    "source": [],
    "metadata": {
     "collapsed": false
    }
   }
  }
 },
 "nbformat": 4,
 "nbformat_minor": 1
}