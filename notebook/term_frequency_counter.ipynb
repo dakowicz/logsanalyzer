{
 "cells": [
  {
   "cell_type": "code",
   "execution_count": null,
   "metadata": {
    "collapsed": true,
    "pycharm": {
     "is_executing": false
    }
   },
   "outputs": [],
   "source": [
    "import math\n",
    "from collections import Counter\n",
    "\n",
    "import matplotlib.pyplot as plt\n",
    "%matplotlib inline\n",
    "import nltk"
   ]
  },
  {
   "cell_type": "code",
   "execution_count": null,
   "metadata": {
    "pycharm": {
     "is_executing": false,
     "name": "#%%\n"
    }
   },
   "outputs": [],
   "source": [
    "def number_of_significant_words(counter):\n",
    "    one_percent = sum(counter.values()) /1000\n",
    "    number_of = 0\n",
    "    for c in set(counter):\n",
    "        if counter[c] > one_percent:\n",
    "            number_of += 1\n",
    "    return number_of"
   ]
  },
  {
   "cell_type": "code",
   "execution_count": null,
   "metadata": {
    "pycharm": {
     "is_executing": false,
     "name": "#%%\n"
    }
   },
   "outputs": [],
   "source": [
    "def is_word(word):\n",
    "    for c in word:\n",
    "        if not c.isalpha():\n",
    "            return False\n",
    "    return True\n",
    "\n",
    "def is_start_of_log_msg(word):\n",
    "    return word == '<s>'\n",
    "\n",
    "def is_end_of_log_msg(word):\n",
    "    return word == '</s>'\n",
    "\n",
    "def get_df_counter(file_prefix):\n",
    "    df_counter = Counter()\n",
    "    log_msg_words = []\n",
    "    total_count = 0\n",
    "    eng_words = {*map(lambda x: x.lower(), nltk.corpus.words.words())}\n",
    "    with open('../../' + file_prefix + '-all-words.txt', mode='r') as file:\n",
    "        for word in file:\n",
    "            current_word = word.strip()\n",
    "            if is_start_of_log_msg(current_word):\n",
    "                log_msg_words = []\n",
    "            elif is_end_of_log_msg(current_word):\n",
    "                for w in set(log_msg_words):\n",
    "                    df_counter[w] += 1\n",
    "            elif current_word in eng_words:\n",
    "                log_msg_words.append(current_word)\n",
    "                total_count += 1\n",
    "    return df_counter, total_count\n",
    "\n",
    "def get_idf_counter(file_prefix):\n",
    "    df_counter, total_count = get_df_counter(file_prefix)\n",
    "    idf_counter = Counter()\n",
    "    for w in df_counter:\n",
    "        idf_value = math.log10(total_count/df_counter[w])\n",
    "        idf_counter[w] = idf_value\n",
    "    return idf_counter\n"
   ]
  },
  {
   "cell_type": "code",
   "execution_count": null,
   "outputs": [],
   "source": [
    "def get_df_bigram_counter(file_prefix):\n",
    "    df_counter = Counter()\n",
    "    log_msg_words = []\n",
    "    total_count = 0\n",
    "    eng_words = {*map(lambda x: x.lower(), nltk.corpus.words.words())}\n",
    "    with open('../../' + file_prefix + '-all-words.txt', mode='r') as file:\n",
    "        first_word = file.__next__().strip()\n",
    "        for word in file:\n",
    "            second_word = word.strip()\n",
    "            if is_start_of_log_msg(first_word):\n",
    "                log_msg_words = []\n",
    "            elif is_end_of_log_msg(second_word):\n",
    "                for w in set(log_msg_words):\n",
    "                    df_counter[w] += 1\n",
    "            elif first_word in eng_words and second_word in eng_words:\n",
    "                log_msg_words.append(first_word + \" \" + second_word)\n",
    "                total_count += 1\n",
    "            first_word = second_word\n",
    "    return df_counter, total_count\n",
    "\n",
    "def get_idf_bigram_counter(file_prefix):\n",
    "    df_counter, total_count = get_df_bigram_counter(file_prefix)\n",
    "    idf_counter = Counter()\n",
    "    for w in df_counter:\n",
    "        idf_value = math.log10(total_count/df_counter[w])\n",
    "        idf_counter[w] = idf_value\n",
    "    return idf_counter"
   ],
   "metadata": {
    "collapsed": false,
    "pycharm": {
     "name": "#%%\n",
     "is_executing": false
    }
   }
  },
  {
   "cell_type": "code",
   "execution_count": null,
   "outputs": [],
   "source": [
    "def plot_counter(cc):\n",
    "    plt.figure(figsize=(10, 6))\n",
    "    plt.grid(True)\n",
    "    plt.plot(\n",
    "        [*map(lambda x: get_count(*x), cc.most_common())]\n",
    "    )\n",
    "    \n",
    "def get_count(x, y):\n",
    "    return y"
   ],
   "metadata": {
    "collapsed": false,
    "pycharm": {
     "name": "#%%\n",
     "is_executing": false
    }
   }
  },
  {
   "cell_type": "code",
   "execution_count": null,
   "outputs": [],
   "source": [],
   "metadata": {
    "collapsed": false,
    "pycharm": {
     "name": "#%%\n",
     "is_executing": false
    }
   }
  }
 ],
 "metadata": {
  "kernelspec": {
   "display_name": "Python 3",
   "language": "python",
   "name": "python3"
  },
  "language_info": {
   "codemirror_mode": {
    "name": "ipython",
    "version": 3
   },
   "file_extension": ".py",
   "mimetype": "text/x-python",
   "name": "python",
   "nbconvert_exporter": "python",
   "pygments_lexer": "ipython3",
   "version": "3.7.4"
  },
  "pycharm": {
   "stem_cell": {
    "cell_type": "raw",
    "source": [],
    "metadata": {
     "collapsed": false
    }
   }
  }
 },
 "nbformat": 4,
 "nbformat_minor": 1
}