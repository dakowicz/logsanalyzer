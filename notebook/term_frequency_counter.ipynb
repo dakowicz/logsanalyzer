{
 "cells": [
  {
   "cell_type": "code",
   "execution_count": 1,
   "metadata": {
    "collapsed": true,
    "pycharm": {
     "is_executing": false
    }
   },
   "outputs": [
    {
     "name": "stderr",
     "text": [
      "[nltk_data] Downloading package punkt to\n",
      "[nltk_data]     /Users/tomaszdakowicz2/nltk_data...\n",
      "[nltk_data]   Package punkt is already up-to-date!\n",
      "[nltk_data] Downloading package words to\n",
      "[nltk_data]     /Users/tomaszdakowicz2/nltk_data...\n",
      "[nltk_data]   Package words is already up-to-date!\n",
      "[nltk_data] Downloading package stopwords to\n",
      "[nltk_data]     /Users/tomaszdakowicz2/nltk_data...\n",
      "[nltk_data]   Package stopwords is already up-to-date!\n"
     ],
     "output_type": "stream"
    }
   ],
   "source": [
    "\n",
    "from ipynb.fs.full.term_frequency import get_eng_words_vector_from_logs_starting_with\n",
    "from ipynb.fs.full.term_frequency import plot_all_eng_words"
   ]
  },
  {
   "cell_type": "code",
   "execution_count": 2,
   "outputs": [],
   "source": [
    "def number_of_significant_words(counter):\n",
    "    one_percent = sum(counter.values()) /1000\n",
    "    number_of = 0\n",
    "    for c in set(counter):\n",
    "        if counter[c] > one_percent:\n",
    "            number_of += 1\n",
    "    return number_of"
   ],
   "metadata": {
    "collapsed": false,
    "pycharm": {
     "name": "#%%\n",
     "is_executing": false
    }
   }
  },
  {
   "cell_type": "code",
   "execution_count": 3,
   "outputs": [
    {
     "name": "stdout",
     "text": [
      "Processing ../../dataset-10/timepot.2019-10-06.log\n",
      "Processing ../../dataset-10/timepot.2019-10-12.log\n",
      "Processing ../../dataset-10/timepot.2019-10-13.log\n",
      "Processing ../../dataset-10/timepot.2019-10-07.log\n",
      "Processing ../../dataset-10/timepot.2019-10-11.log\n",
      "Processing ../../dataset-10/timepot.2019-10-05.log\n",
      "Processing ../../dataset-10/timepot.2019-10-04.log\n",
      "Processing ../../dataset-10/timepot.2019-10-10.log\n",
      "Processing ../../dataset-10/timepot.2019-10-28.log\n",
      "Processing ../../dataset-10/timepot.2019-10-14.log\n",
      "Processing ../../dataset-10/timepot.2019-10-01.log\n",
      "Processing ../../dataset-10/timepot.2019-10-15.log\n",
      "Processing ../../dataset-10/timepot.2019-10-29.log\n",
      "Processing ../../dataset-10/timepot.2019-10-03.log\n",
      "Processing ../../dataset-10/timepot.2019-10-17.log\n",
      "Processing ../../dataset-10/timepot.2019-10-16.log\n",
      "Processing ../../dataset-10/timepot.2019-10-02.log\n",
      "Processing ../../dataset-10/timepot.2019-10-27.log\n",
      "Processing ../../dataset-10/timepot.2019-10-26.log\n",
      "Processing ../../dataset-10/timepot.2019-10-30.log\n",
      "Processing ../../dataset-10/timepot.2019-10-24.log\n",
      "Processing ../../dataset-10/timepot.2019-10-18.log\n",
      "Processing ../../dataset-10/timepot.2019-10-19.log\n",
      "Processing ../../dataset-10/timepot.2019-10-25.log\n",
      "Processing ../../dataset-10/timepot.2019-10-09.log\n",
      "Processing ../../dataset-10/timepot.2019-10-21.log\n",
      "Processing ../../dataset-10/timepot.2019-10-20.log\n",
      "Processing ../../dataset-10/timepot.2019-10-08.log\n",
      "Processing ../../dataset-10/timepot.2019-10-22.log\n",
      "Processing ../../dataset-10/timepot.2019-10-23.log\n",
      "Processing 12847 log entries\n"
     ],
     "output_type": "stream"
    },
    {
     "traceback": [
      "\u001b[0;31m---------------------------------------------------------------------------\u001b[0m",
      "\u001b[0;31mKeyboardInterrupt\u001b[0m                         Traceback (most recent call last)",
      "\u001b[0;32m<ipython-input-3-e7fd5e6bcf7f>\u001b[0m in \u001b[0;36m<module>\u001b[0;34m\u001b[0m\n\u001b[0;32m----> 1\u001b[0;31m \u001b[0mget_eng_words_vector_from_logs_starting_with\u001b[0m\u001b[0;34m(\u001b[0m\u001b[0;34m'timepot.2019-10'\u001b[0m\u001b[0;34m)\u001b[0m\u001b[0;34m.\u001b[0m\u001b[0mmost_common\u001b[0m\u001b[0;34m(\u001b[0m\u001b[0;36m10\u001b[0m\u001b[0;34m)\u001b[0m\u001b[0;34m\u001b[0m\u001b[0;34m\u001b[0m\u001b[0m\n\u001b[0m\u001b[1;32m      2\u001b[0m \u001b[0;34m\u001b[0m\u001b[0m\n",
      "\u001b[0;32m~/projects/mojee/logsanalyzer/notebook/term_frequency.ipynb\u001b[0m in \u001b[0;36mget_eng_words_vector_from_logs_starting_with\u001b[0;34m(file_prefix)\u001b[0m\n\u001b[1;32m     15\u001b[0m      \"text\": [\n\u001b[1;32m     16\u001b[0m       \u001b[0;34m\"[nltk_data] Downloading package punkt to\\n\"\u001b[0m\u001b[0;34m,\u001b[0m\u001b[0;34m\u001b[0m\u001b[0;34m\u001b[0m\u001b[0m\n\u001b[0;32m---> 17\u001b[0;31m       \u001b[0;34m\"[nltk_data]     /Users/tomaszdakowicz2/nltk_data...\\n\"\u001b[0m\u001b[0;34m,\u001b[0m\u001b[0;34m\u001b[0m\u001b[0;34m\u001b[0m\u001b[0m\n\u001b[0m\u001b[1;32m     18\u001b[0m       \u001b[0;34m\"[nltk_data]   Package punkt is already up-to-date!\\n\"\u001b[0m\u001b[0;34m,\u001b[0m\u001b[0;34m\u001b[0m\u001b[0;34m\u001b[0m\u001b[0m\n\u001b[1;32m     19\u001b[0m       \u001b[0;34m\"[nltk_data] Downloading package words to\\n\"\u001b[0m\u001b[0;34m,\u001b[0m\u001b[0;34m\u001b[0m\u001b[0;34m\u001b[0m\u001b[0m\n",
      "\u001b[0;32m~/Library/Python/3.7/lib/python/site-packages/nltk/tokenize/__init__.py\u001b[0m in \u001b[0;36mword_tokenize\u001b[0;34m(text, language, preserve_line)\u001b[0m\n\u001b[1;32m    142\u001b[0m     \u001b[0;34m:\u001b[0m\u001b[0mtype\u001b[0m \u001b[0mpreserve_line\u001b[0m\u001b[0;34m:\u001b[0m \u001b[0mbool\u001b[0m\u001b[0;34m\u001b[0m\u001b[0;34m\u001b[0m\u001b[0m\n\u001b[1;32m    143\u001b[0m     \"\"\"\n\u001b[0;32m--> 144\u001b[0;31m     \u001b[0msentences\u001b[0m \u001b[0;34m=\u001b[0m \u001b[0;34m[\u001b[0m\u001b[0mtext\u001b[0m\u001b[0;34m]\u001b[0m \u001b[0;32mif\u001b[0m \u001b[0mpreserve_line\u001b[0m \u001b[0;32melse\u001b[0m \u001b[0msent_tokenize\u001b[0m\u001b[0;34m(\u001b[0m\u001b[0mtext\u001b[0m\u001b[0;34m,\u001b[0m \u001b[0mlanguage\u001b[0m\u001b[0;34m)\u001b[0m\u001b[0;34m\u001b[0m\u001b[0;34m\u001b[0m\u001b[0m\n\u001b[0m\u001b[1;32m    145\u001b[0m     return [\n\u001b[1;32m    146\u001b[0m         \u001b[0mtoken\u001b[0m \u001b[0;32mfor\u001b[0m \u001b[0msent\u001b[0m \u001b[0;32min\u001b[0m \u001b[0msentences\u001b[0m \u001b[0;32mfor\u001b[0m \u001b[0mtoken\u001b[0m \u001b[0;32min\u001b[0m \u001b[0m_treebank_word_tokenizer\u001b[0m\u001b[0;34m.\u001b[0m\u001b[0mtokenize\u001b[0m\u001b[0;34m(\u001b[0m\u001b[0msent\u001b[0m\u001b[0;34m)\u001b[0m\u001b[0;34m\u001b[0m\u001b[0;34m\u001b[0m\u001b[0m\n",
      "\u001b[0;32m~/Library/Python/3.7/lib/python/site-packages/nltk/tokenize/__init__.py\u001b[0m in \u001b[0;36msent_tokenize\u001b[0;34m(text, language)\u001b[0m\n\u001b[1;32m    104\u001b[0m     \"\"\"\n\u001b[1;32m    105\u001b[0m     \u001b[0mtokenizer\u001b[0m \u001b[0;34m=\u001b[0m \u001b[0mload\u001b[0m\u001b[0;34m(\u001b[0m\u001b[0;34m'tokenizers/punkt/{0}.pickle'\u001b[0m\u001b[0;34m.\u001b[0m\u001b[0mformat\u001b[0m\u001b[0;34m(\u001b[0m\u001b[0mlanguage\u001b[0m\u001b[0;34m)\u001b[0m\u001b[0;34m)\u001b[0m\u001b[0;34m\u001b[0m\u001b[0;34m\u001b[0m\u001b[0m\n\u001b[0;32m--> 106\u001b[0;31m     \u001b[0;32mreturn\u001b[0m \u001b[0mtokenizer\u001b[0m\u001b[0;34m.\u001b[0m\u001b[0mtokenize\u001b[0m\u001b[0;34m(\u001b[0m\u001b[0mtext\u001b[0m\u001b[0;34m)\u001b[0m\u001b[0;34m\u001b[0m\u001b[0;34m\u001b[0m\u001b[0m\n\u001b[0m\u001b[1;32m    107\u001b[0m \u001b[0;34m\u001b[0m\u001b[0m\n\u001b[1;32m    108\u001b[0m \u001b[0;34m\u001b[0m\u001b[0m\n",
      "\u001b[0;32m~/Library/Python/3.7/lib/python/site-packages/nltk/tokenize/punkt.py\u001b[0m in \u001b[0;36mtokenize\u001b[0;34m(self, text, realign_boundaries)\u001b[0m\n\u001b[1;32m   1275\u001b[0m         \u001b[0mGiven\u001b[0m \u001b[0ma\u001b[0m \u001b[0mtext\u001b[0m\u001b[0;34m,\u001b[0m \u001b[0mreturns\u001b[0m \u001b[0ma\u001b[0m \u001b[0mlist\u001b[0m \u001b[0mof\u001b[0m \u001b[0mthe\u001b[0m \u001b[0msentences\u001b[0m \u001b[0;32min\u001b[0m \u001b[0mthat\u001b[0m \u001b[0mtext\u001b[0m\u001b[0;34m.\u001b[0m\u001b[0;34m\u001b[0m\u001b[0;34m\u001b[0m\u001b[0m\n\u001b[1;32m   1276\u001b[0m         \"\"\"\n\u001b[0;32m-> 1277\u001b[0;31m         \u001b[0;32mreturn\u001b[0m \u001b[0mlist\u001b[0m\u001b[0;34m(\u001b[0m\u001b[0mself\u001b[0m\u001b[0;34m.\u001b[0m\u001b[0msentences_from_text\u001b[0m\u001b[0;34m(\u001b[0m\u001b[0mtext\u001b[0m\u001b[0;34m,\u001b[0m \u001b[0mrealign_boundaries\u001b[0m\u001b[0;34m)\u001b[0m\u001b[0;34m)\u001b[0m\u001b[0;34m\u001b[0m\u001b[0;34m\u001b[0m\u001b[0m\n\u001b[0m\u001b[1;32m   1278\u001b[0m \u001b[0;34m\u001b[0m\u001b[0m\n\u001b[1;32m   1279\u001b[0m     \u001b[0;32mdef\u001b[0m \u001b[0mdebug_decisions\u001b[0m\u001b[0;34m(\u001b[0m\u001b[0mself\u001b[0m\u001b[0;34m,\u001b[0m \u001b[0mtext\u001b[0m\u001b[0;34m)\u001b[0m\u001b[0;34m:\u001b[0m\u001b[0;34m\u001b[0m\u001b[0;34m\u001b[0m\u001b[0m\n",
      "\u001b[0;32m~/Library/Python/3.7/lib/python/site-packages/nltk/tokenize/punkt.py\u001b[0m in \u001b[0;36msentences_from_text\u001b[0;34m(self, text, realign_boundaries)\u001b[0m\n\u001b[1;32m   1329\u001b[0m         \u001b[0mfollows\u001b[0m \u001b[0mthe\u001b[0m \u001b[0mperiod\u001b[0m\u001b[0;34m.\u001b[0m\u001b[0;34m\u001b[0m\u001b[0;34m\u001b[0m\u001b[0m\n\u001b[1;32m   1330\u001b[0m         \"\"\"\n\u001b[0;32m-> 1331\u001b[0;31m         \u001b[0;32mreturn\u001b[0m \u001b[0;34m[\u001b[0m\u001b[0mtext\u001b[0m\u001b[0;34m[\u001b[0m\u001b[0ms\u001b[0m\u001b[0;34m:\u001b[0m\u001b[0me\u001b[0m\u001b[0;34m]\u001b[0m \u001b[0;32mfor\u001b[0m \u001b[0ms\u001b[0m\u001b[0;34m,\u001b[0m \u001b[0me\u001b[0m \u001b[0;32min\u001b[0m \u001b[0mself\u001b[0m\u001b[0;34m.\u001b[0m\u001b[0mspan_tokenize\u001b[0m\u001b[0;34m(\u001b[0m\u001b[0mtext\u001b[0m\u001b[0;34m,\u001b[0m \u001b[0mrealign_boundaries\u001b[0m\u001b[0;34m)\u001b[0m\u001b[0;34m]\u001b[0m\u001b[0;34m\u001b[0m\u001b[0;34m\u001b[0m\u001b[0m\n\u001b[0m\u001b[1;32m   1332\u001b[0m \u001b[0;34m\u001b[0m\u001b[0m\n\u001b[1;32m   1333\u001b[0m     \u001b[0;32mdef\u001b[0m \u001b[0m_slices_from_text\u001b[0m\u001b[0;34m(\u001b[0m\u001b[0mself\u001b[0m\u001b[0;34m,\u001b[0m \u001b[0mtext\u001b[0m\u001b[0;34m)\u001b[0m\u001b[0;34m:\u001b[0m\u001b[0;34m\u001b[0m\u001b[0;34m\u001b[0m\u001b[0m\n",
      "\u001b[0;32m~/Library/Python/3.7/lib/python/site-packages/nltk/tokenize/punkt.py\u001b[0m in \u001b[0;36m<listcomp>\u001b[0;34m(.0)\u001b[0m\n\u001b[1;32m   1329\u001b[0m         \u001b[0mfollows\u001b[0m \u001b[0mthe\u001b[0m \u001b[0mperiod\u001b[0m\u001b[0;34m.\u001b[0m\u001b[0;34m\u001b[0m\u001b[0;34m\u001b[0m\u001b[0m\n\u001b[1;32m   1330\u001b[0m         \"\"\"\n\u001b[0;32m-> 1331\u001b[0;31m         \u001b[0;32mreturn\u001b[0m \u001b[0;34m[\u001b[0m\u001b[0mtext\u001b[0m\u001b[0;34m[\u001b[0m\u001b[0ms\u001b[0m\u001b[0;34m:\u001b[0m\u001b[0me\u001b[0m\u001b[0;34m]\u001b[0m \u001b[0;32mfor\u001b[0m \u001b[0ms\u001b[0m\u001b[0;34m,\u001b[0m \u001b[0me\u001b[0m \u001b[0;32min\u001b[0m \u001b[0mself\u001b[0m\u001b[0;34m.\u001b[0m\u001b[0mspan_tokenize\u001b[0m\u001b[0;34m(\u001b[0m\u001b[0mtext\u001b[0m\u001b[0;34m,\u001b[0m \u001b[0mrealign_boundaries\u001b[0m\u001b[0;34m)\u001b[0m\u001b[0;34m]\u001b[0m\u001b[0;34m\u001b[0m\u001b[0;34m\u001b[0m\u001b[0m\n\u001b[0m\u001b[1;32m   1332\u001b[0m \u001b[0;34m\u001b[0m\u001b[0m\n\u001b[1;32m   1333\u001b[0m     \u001b[0;32mdef\u001b[0m \u001b[0m_slices_from_text\u001b[0m\u001b[0;34m(\u001b[0m\u001b[0mself\u001b[0m\u001b[0;34m,\u001b[0m \u001b[0mtext\u001b[0m\u001b[0;34m)\u001b[0m\u001b[0;34m:\u001b[0m\u001b[0;34m\u001b[0m\u001b[0;34m\u001b[0m\u001b[0m\n",
      "\u001b[0;32m~/Library/Python/3.7/lib/python/site-packages/nltk/tokenize/punkt.py\u001b[0m in \u001b[0;36mspan_tokenize\u001b[0;34m(self, text, realign_boundaries)\u001b[0m\n\u001b[1;32m   1319\u001b[0m         \u001b[0;32mif\u001b[0m \u001b[0mrealign_boundaries\u001b[0m\u001b[0;34m:\u001b[0m\u001b[0;34m\u001b[0m\u001b[0;34m\u001b[0m\u001b[0m\n\u001b[1;32m   1320\u001b[0m             \u001b[0mslices\u001b[0m \u001b[0;34m=\u001b[0m \u001b[0mself\u001b[0m\u001b[0;34m.\u001b[0m\u001b[0m_realign_boundaries\u001b[0m\u001b[0;34m(\u001b[0m\u001b[0mtext\u001b[0m\u001b[0;34m,\u001b[0m \u001b[0mslices\u001b[0m\u001b[0;34m)\u001b[0m\u001b[0;34m\u001b[0m\u001b[0;34m\u001b[0m\u001b[0m\n\u001b[0;32m-> 1321\u001b[0;31m         \u001b[0;32mfor\u001b[0m \u001b[0msl\u001b[0m \u001b[0;32min\u001b[0m \u001b[0mslices\u001b[0m\u001b[0;34m:\u001b[0m\u001b[0;34m\u001b[0m\u001b[0;34m\u001b[0m\u001b[0m\n\u001b[0m\u001b[1;32m   1322\u001b[0m             \u001b[0;32myield\u001b[0m \u001b[0;34m(\u001b[0m\u001b[0msl\u001b[0m\u001b[0;34m.\u001b[0m\u001b[0mstart\u001b[0m\u001b[0;34m,\u001b[0m \u001b[0msl\u001b[0m\u001b[0;34m.\u001b[0m\u001b[0mstop\u001b[0m\u001b[0;34m)\u001b[0m\u001b[0;34m\u001b[0m\u001b[0;34m\u001b[0m\u001b[0m\n\u001b[1;32m   1323\u001b[0m \u001b[0;34m\u001b[0m\u001b[0m\n",
      "\u001b[0;32m~/Library/Python/3.7/lib/python/site-packages/nltk/tokenize/punkt.py\u001b[0m in \u001b[0;36m_realign_boundaries\u001b[0;34m(self, text, slices)\u001b[0m\n\u001b[1;32m   1360\u001b[0m         \"\"\"\n\u001b[1;32m   1361\u001b[0m         \u001b[0mrealign\u001b[0m \u001b[0;34m=\u001b[0m \u001b[0;36m0\u001b[0m\u001b[0;34m\u001b[0m\u001b[0;34m\u001b[0m\u001b[0m\n\u001b[0;32m-> 1362\u001b[0;31m         \u001b[0;32mfor\u001b[0m \u001b[0msl1\u001b[0m\u001b[0;34m,\u001b[0m \u001b[0msl2\u001b[0m \u001b[0;32min\u001b[0m \u001b[0m_pair_iter\u001b[0m\u001b[0;34m(\u001b[0m\u001b[0mslices\u001b[0m\u001b[0;34m)\u001b[0m\u001b[0;34m:\u001b[0m\u001b[0;34m\u001b[0m\u001b[0;34m\u001b[0m\u001b[0m\n\u001b[0m\u001b[1;32m   1363\u001b[0m             \u001b[0msl1\u001b[0m \u001b[0;34m=\u001b[0m \u001b[0mslice\u001b[0m\u001b[0;34m(\u001b[0m\u001b[0msl1\u001b[0m\u001b[0;34m.\u001b[0m\u001b[0mstart\u001b[0m \u001b[0;34m+\u001b[0m \u001b[0mrealign\u001b[0m\u001b[0;34m,\u001b[0m \u001b[0msl1\u001b[0m\u001b[0;34m.\u001b[0m\u001b[0mstop\u001b[0m\u001b[0;34m)\u001b[0m\u001b[0;34m\u001b[0m\u001b[0;34m\u001b[0m\u001b[0m\n\u001b[1;32m   1364\u001b[0m             \u001b[0;32mif\u001b[0m \u001b[0;32mnot\u001b[0m \u001b[0msl2\u001b[0m\u001b[0;34m:\u001b[0m\u001b[0;34m\u001b[0m\u001b[0;34m\u001b[0m\u001b[0m\n",
      "\u001b[0;32m~/Library/Python/3.7/lib/python/site-packages/nltk/tokenize/punkt.py\u001b[0m in \u001b[0;36m_pair_iter\u001b[0;34m(it)\u001b[0m\n\u001b[1;32m    316\u001b[0m     \u001b[0mit\u001b[0m \u001b[0;34m=\u001b[0m \u001b[0miter\u001b[0m\u001b[0;34m(\u001b[0m\u001b[0mit\u001b[0m\u001b[0;34m)\u001b[0m\u001b[0;34m\u001b[0m\u001b[0;34m\u001b[0m\u001b[0m\n\u001b[1;32m    317\u001b[0m     \u001b[0;32mtry\u001b[0m\u001b[0;34m:\u001b[0m\u001b[0;34m\u001b[0m\u001b[0;34m\u001b[0m\u001b[0m\n\u001b[0;32m--> 318\u001b[0;31m         \u001b[0mprev\u001b[0m \u001b[0;34m=\u001b[0m \u001b[0mnext\u001b[0m\u001b[0;34m(\u001b[0m\u001b[0mit\u001b[0m\u001b[0;34m)\u001b[0m\u001b[0;34m\u001b[0m\u001b[0;34m\u001b[0m\u001b[0m\n\u001b[0m\u001b[1;32m    319\u001b[0m     \u001b[0;32mexcept\u001b[0m \u001b[0mStopIteration\u001b[0m\u001b[0;34m:\u001b[0m\u001b[0;34m\u001b[0m\u001b[0;34m\u001b[0m\u001b[0m\n\u001b[1;32m    320\u001b[0m         \u001b[0;32mreturn\u001b[0m\u001b[0;34m\u001b[0m\u001b[0;34m\u001b[0m\u001b[0m\n",
      "\u001b[0;32m~/Library/Python/3.7/lib/python/site-packages/nltk/tokenize/punkt.py\u001b[0m in \u001b[0;36m_slices_from_text\u001b[0;34m(self, text)\u001b[0m\n\u001b[1;32m   1333\u001b[0m     \u001b[0;32mdef\u001b[0m \u001b[0m_slices_from_text\u001b[0m\u001b[0;34m(\u001b[0m\u001b[0mself\u001b[0m\u001b[0;34m,\u001b[0m \u001b[0mtext\u001b[0m\u001b[0;34m)\u001b[0m\u001b[0;34m:\u001b[0m\u001b[0;34m\u001b[0m\u001b[0;34m\u001b[0m\u001b[0m\n\u001b[1;32m   1334\u001b[0m         \u001b[0mlast_break\u001b[0m \u001b[0;34m=\u001b[0m \u001b[0;36m0\u001b[0m\u001b[0;34m\u001b[0m\u001b[0;34m\u001b[0m\u001b[0m\n\u001b[0;32m-> 1335\u001b[0;31m         \u001b[0;32mfor\u001b[0m \u001b[0mmatch\u001b[0m \u001b[0;32min\u001b[0m \u001b[0mself\u001b[0m\u001b[0;34m.\u001b[0m\u001b[0m_lang_vars\u001b[0m\u001b[0;34m.\u001b[0m\u001b[0mperiod_context_re\u001b[0m\u001b[0;34m(\u001b[0m\u001b[0;34m)\u001b[0m\u001b[0;34m.\u001b[0m\u001b[0mfinditer\u001b[0m\u001b[0;34m(\u001b[0m\u001b[0mtext\u001b[0m\u001b[0;34m)\u001b[0m\u001b[0;34m:\u001b[0m\u001b[0;34m\u001b[0m\u001b[0;34m\u001b[0m\u001b[0m\n\u001b[0m\u001b[1;32m   1336\u001b[0m             \u001b[0mcontext\u001b[0m \u001b[0;34m=\u001b[0m \u001b[0mmatch\u001b[0m\u001b[0;34m.\u001b[0m\u001b[0mgroup\u001b[0m\u001b[0;34m(\u001b[0m\u001b[0;34m)\u001b[0m \u001b[0;34m+\u001b[0m \u001b[0mmatch\u001b[0m\u001b[0;34m.\u001b[0m\u001b[0mgroup\u001b[0m\u001b[0;34m(\u001b[0m\u001b[0;34m'after_tok'\u001b[0m\u001b[0;34m)\u001b[0m\u001b[0;34m\u001b[0m\u001b[0;34m\u001b[0m\u001b[0m\n\u001b[1;32m   1337\u001b[0m             \u001b[0;32mif\u001b[0m \u001b[0mself\u001b[0m\u001b[0;34m.\u001b[0m\u001b[0mtext_contains_sentbreak\u001b[0m\u001b[0;34m(\u001b[0m\u001b[0mcontext\u001b[0m\u001b[0;34m)\u001b[0m\u001b[0;34m:\u001b[0m\u001b[0;34m\u001b[0m\u001b[0;34m\u001b[0m\u001b[0m\n",
      "\u001b[0;31mKeyboardInterrupt\u001b[0m: "
     ],
     "ename": "KeyboardInterrupt",
     "evalue": "",
     "output_type": "error"
    }
   ],
   "source": [
    "get_eng_words_vector_from_logs_starting_with('timepot.2019-10').most_common(10)"
   ],
   "metadata": {
    "collapsed": false,
    "pycharm": {
     "name": "#%%\n",
     "is_executing": false
    }
   }
  },
  {
   "cell_type": "code",
   "execution_count": 2,
   "outputs": [
    {
     "name": "stdout",
     "text": [
      "Processing ../../dataset-10/frontend.2019-10-19.log\n",
      "Processing ../../dataset-10/frontend.2019-10-25.log\n",
      "Processing ../../dataset-10/frontend.2019-10-30.log\n",
      "Processing ../../dataset-10/frontend.2019-10-24.log\n",
      "Processing ../../dataset-10/frontend.2019-10-18.log\n",
      "Processing ../../dataset-10/frontend.2019-10-26.log\n",
      "Processing ../../dataset-10/frontend.2019-10-27.log\n",
      "Processing ../../dataset-10/frontend.2019-10-23.log\n",
      "Processing ../../dataset-10/frontend.2019-10-22.log\n",
      "Processing ../../dataset-10/frontend.2019-10-20.log\n",
      "Processing ../../dataset-10/frontend.2019-10-08.log\n",
      "Processing ../../dataset-10/frontend.2019-10-09.log\n",
      "Processing ../../dataset-10/frontend.2019-10-21.log\n",
      "Processing ../../dataset-10/frontend.2019-10-04.log\n",
      "Processing ../../dataset-10/frontend.2019-10-10.log\n",
      "Processing ../../dataset-10/frontend.2019-10-11.log\n",
      "Processing ../../dataset-10/frontend.2019-10-05.log\n",
      "Processing ../../dataset-10/frontend.2019-10-13.log\n",
      "Processing ../../dataset-10/frontend.2019-10-07.log\n",
      "Processing ../../dataset-10/frontend.2019-10-06.log\n",
      "Processing ../../dataset-10/frontend.2019-10-16.log\n",
      "Processing ../../dataset-10/frontend.2019-10-02.log\n",
      "Processing ../../dataset-10/frontend.2019-10-03.log\n",
      "Processing ../../dataset-10/frontend.2019-10-17.log\n",
      "Processing ../../dataset-10/frontend.2019-10-01.log\n",
      "Processing ../../dataset-10/frontend.2019-10-15.log\n",
      "Processing ../../dataset-10/frontend.2019-10-29.log\n",
      "Processing ../../dataset-10/frontend.2019-10-28.log\n",
      "Processing ../../dataset-10/frontend.2019-10-14.log\n",
      "Processing 976 log entries\n"
     ],
     "output_type": "stream"
    },
    {
     "data": {
      "text/plain": "[('message', 1662),\n ('status', 1376),\n ('client', 976),\n ('web', 976),\n ('with', 787),\n ('not', 730),\n ('to', 729),\n ('call', 690),\n ('use', 688),\n ('this', 403)]"
     },
     "metadata": {},
     "output_type": "execute_result",
     "execution_count": 2
    }
   ],
   "source": [
    "get_eng_words_vector_from_logs_starting_with('frontend.2019-10').most_common(10)"
   ],
   "metadata": {
    "collapsed": false,
    "pycharm": {
     "name": "#%%\n",
     "is_executing": false
    }
   }
  },
  {
   "cell_type": "code",
   "execution_count": null,
   "outputs": [],
   "source": [
    "get_eng_words_vector_from_logs_starting_with('braintree.2019-10').most_common(10)"
   ],
   "metadata": {
    "collapsed": false,
    "pycharm": {
     "name": "#%%\n"
    }
   }
  },
  {
   "cell_type": "code",
   "execution_count": null,
   "outputs": [],
   "source": [
    "get_eng_words_vector_from_logs_starting_with('message.2019-10-05').most_common(10)"
   ],
   "metadata": {
    "collapsed": false,
    "pycharm": {
     "name": "#%%\n"
    }
   }
  },
  {
   "cell_type": "code",
   "execution_count": null,
   "outputs": [],
   "source": [
    "plot_all_eng_words('timepot.2019-10')"
   ],
   "metadata": {
    "collapsed": false,
    "pycharm": {
     "name": "#%%\n"
    }
   }
  },
  {
   "cell_type": "code",
   "execution_count": null,
   "outputs": [],
   "source": [
    "plot_all_eng_words('frontend.2019-10')"
   ],
   "metadata": {
    "collapsed": false,
    "pycharm": {
     "name": "#%%\n"
    }
   }
  },
  {
   "cell_type": "code",
   "execution_count": null,
   "outputs": [],
   "source": [
    "plot_all_eng_words('braintree.2019-10')"
   ],
   "metadata": {
    "collapsed": false,
    "pycharm": {
     "name": "#%%\n"
    }
   }
  },
  {
   "cell_type": "code",
   "execution_count": 5,
   "outputs": [
    {
     "name": "stdout",
     "text": [
      "Processing ../../dataset-10/message.2019-10-05.log\n"
     ],
     "output_type": "stream"
    },
    {
     "traceback": [
      "\u001b[0;31m---------------------------------------------------------------------------\u001b[0m",
      "\u001b[0;31mKeyboardInterrupt\u001b[0m                         Traceback (most recent call last)",
      "\u001b[0;32m<ipython-input-5-d892195af72e>\u001b[0m in \u001b[0;36m<module>\u001b[0;34m\u001b[0m\n\u001b[0;32m----> 1\u001b[0;31m \u001b[0mplot_all_eng_words\u001b[0m\u001b[0;34m(\u001b[0m\u001b[0;34m'message.2019-10-05'\u001b[0m\u001b[0;34m)\u001b[0m\u001b[0;34m\u001b[0m\u001b[0;34m\u001b[0m\u001b[0m\n\u001b[0m",
      "\u001b[0;32m~/projects/mojee/logsanalyzer/notebook/term_frequency.ipynb\u001b[0m in \u001b[0;36mplot_all_eng_words\u001b[0;34m(file_prefix)\u001b[0m\n\u001b[1;32m     32\u001b[0m      \u001b[0;34m\"metadata\"\u001b[0m\u001b[0;34m:\u001b[0m \u001b[0;34m{\u001b[0m\u001b[0;34m}\u001b[0m\u001b[0;34m,\u001b[0m\u001b[0;34m\u001b[0m\u001b[0;34m\u001b[0m\u001b[0m\n\u001b[1;32m     33\u001b[0m      \u001b[0;34m\"output_type\"\u001b[0m\u001b[0;34m:\u001b[0m \u001b[0;34m\"execute_result\"\u001b[0m\u001b[0;34m,\u001b[0m\u001b[0;34m\u001b[0m\u001b[0;34m\u001b[0m\u001b[0m\n\u001b[0;32m---> 34\u001b[0;31m      \u001b[0;34m\"execution_count\"\u001b[0m\u001b[0;34m:\u001b[0m \u001b[0;36m1\u001b[0m\u001b[0;34m\u001b[0m\u001b[0;34m\u001b[0m\u001b[0m\n\u001b[0m\u001b[1;32m     35\u001b[0m     }\n\u001b[1;32m     36\u001b[0m    ],\n",
      "\u001b[0;32m~/projects/mojee/logsanalyzer/notebook/term_frequency.ipynb\u001b[0m in \u001b[0;36mget_eng_words_vector_from_logs_starting_with\u001b[0;34m(file_prefix)\u001b[0m\n\u001b[1;32m      9\u001b[0m      \u001b[0;34m\"name\"\u001b[0m\u001b[0;34m:\u001b[0m \u001b[0;34m\"#%%\\n\"\u001b[0m\u001b[0;34m\u001b[0m\u001b[0;34m\u001b[0m\u001b[0m\n\u001b[1;32m     10\u001b[0m     }\n\u001b[0;32m---> 11\u001b[0;31m    },\n\u001b[0m\u001b[1;32m     12\u001b[0m    \"outputs\": [\n\u001b[1;32m     13\u001b[0m     {\n",
      "\u001b[0;32m~/projects/mojee/logsanalyzer/notebook/log_entries.ipynb\u001b[0m in \u001b[0;36mget_all_log_entries\u001b[0;34m(file_prefix)\u001b[0m\n\u001b[1;32m     10\u001b[0m    },\n\u001b[1;32m     11\u001b[0m    \u001b[0;34m\"outputs\"\u001b[0m\u001b[0;34m:\u001b[0m \u001b[0;34m[\u001b[0m\u001b[0;34m]\u001b[0m\u001b[0;34m,\u001b[0m\u001b[0;34m\u001b[0m\u001b[0;34m\u001b[0m\u001b[0m\n\u001b[0;32m---> 12\u001b[0;31m    \"source\": [\n\u001b[0m\u001b[1;32m     13\u001b[0m     \u001b[0;34m\"import datetime \\n\"\u001b[0m\u001b[0;34m,\u001b[0m\u001b[0;34m\u001b[0m\u001b[0;34m\u001b[0m\u001b[0m\n\u001b[1;32m     14\u001b[0m     \u001b[0;34m\"import os\\n\"\u001b[0m\u001b[0;34m,\u001b[0m\u001b[0;34m\u001b[0m\u001b[0;34m\u001b[0m\u001b[0m\n",
      "\u001b[0;32m~/projects/mojee/logsanalyzer/notebook/log_entries.ipynb\u001b[0m in \u001b[0;36mprocess_file\u001b[0;34m(filepath)\u001b[0m\n\u001b[1;32m     20\u001b[0m     \u001b[0;34m\"    all_log_entries = []\\n\"\u001b[0m\u001b[0;34m,\u001b[0m\u001b[0;34m\u001b[0m\u001b[0;34m\u001b[0m\u001b[0m\n\u001b[1;32m     21\u001b[0m     \u001b[0;34m\"    for filename in os.listdir(rootPath):\\n\"\u001b[0m\u001b[0;34m,\u001b[0m\u001b[0;34m\u001b[0m\u001b[0;34m\u001b[0m\u001b[0m\n\u001b[0;32m---> 22\u001b[0;31m     \u001b[0;34m\"        if filename.endswith('.log') and filename.startswith(file_prefix):\\n\"\u001b[0m\u001b[0;34m,\u001b[0m\u001b[0;34m\u001b[0m\u001b[0;34m\u001b[0m\u001b[0m\n\u001b[0m\u001b[1;32m     23\u001b[0m     \u001b[0;34m\"            filepath = rootPath + filename\\n\"\u001b[0m\u001b[0;34m,\u001b[0m\u001b[0;34m\u001b[0m\u001b[0;34m\u001b[0m\u001b[0m\n\u001b[1;32m     24\u001b[0m     \u001b[0;34m\"            all_log_entries.extend(process_file(filepath))\\n\"\u001b[0m\u001b[0;34m,\u001b[0m\u001b[0;34m\u001b[0m\u001b[0;34m\u001b[0m\u001b[0m\n",
      "\u001b[0;32m~/projects/mojee/logsanalyzer/notebook/log_entries.ipynb\u001b[0m in \u001b[0;36mprocess_entry\u001b[0;34m(filepath, line, logEntries, parsedDates)\u001b[0m\n\u001b[1;32m     25\u001b[0m     \u001b[0;34m\"    return all_log_entries\\n\"\u001b[0m\u001b[0;34m,\u001b[0m\u001b[0;34m\u001b[0m\u001b[0;34m\u001b[0m\u001b[0m\n\u001b[1;32m     26\u001b[0m     \u001b[0;34m\"    \\n\"\u001b[0m\u001b[0;34m,\u001b[0m\u001b[0;34m\u001b[0m\u001b[0;34m\u001b[0m\u001b[0m\n\u001b[0;32m---> 27\u001b[0;31m     \u001b[0;34m\"def process_file(filepath):\\n\"\u001b[0m\u001b[0;34m,\u001b[0m\u001b[0;34m\u001b[0m\u001b[0;34m\u001b[0m\u001b[0m\n\u001b[0m\u001b[1;32m     28\u001b[0m     \u001b[0;34m\"    print('Processing ' + filepath)\\n\"\u001b[0m\u001b[0;34m,\u001b[0m\u001b[0;34m\u001b[0m\u001b[0;34m\u001b[0m\u001b[0m\n\u001b[1;32m     29\u001b[0m     \u001b[0;34m\"    f = open(filepath, \\\"r+\\\")\\n\"\u001b[0m\u001b[0;34m,\u001b[0m\u001b[0;34m\u001b[0m\u001b[0;34m\u001b[0m\u001b[0m\n",
      "\u001b[0;31mKeyboardInterrupt\u001b[0m: "
     ],
     "ename": "KeyboardInterrupt",
     "evalue": "",
     "output_type": "error"
    }
   ],
   "source": [
    "plot_all_eng_words('message.2019-10-05')"
   ],
   "metadata": {
    "collapsed": false,
    "pycharm": {
     "name": "#%%\n",
     "is_executing": false
    }
   }
  },
  {
   "cell_type": "code",
   "execution_count": 18,
   "outputs": [
    {
     "name": "stdout",
     "text": [
      "Processing ../../dataset-10/timepot.2019-10-06.log\n",
      "Processing ../../dataset-10/timepot.2019-10-12.log\n",
      "Processing ../../dataset-10/timepot.2019-10-13.log\n",
      "Processing ../../dataset-10/timepot.2019-10-07.log\n",
      "Processing ../../dataset-10/timepot.2019-10-11.log\n",
      "Processing ../../dataset-10/timepot.2019-10-05.log\n",
      "Processing ../../dataset-10/timepot.2019-10-04.log\n",
      "Processing ../../dataset-10/timepot.2019-10-10.log\n",
      "Processing ../../dataset-10/timepot.2019-10-28.log\n",
      "Processing ../../dataset-10/timepot.2019-10-14.log\n",
      "Processing ../../dataset-10/timepot.2019-10-01.log\n",
      "Processing ../../dataset-10/timepot.2019-10-15.log\n",
      "Processing ../../dataset-10/timepot.2019-10-29.log\n",
      "Processing ../../dataset-10/timepot.2019-10-03.log\n",
      "Processing ../../dataset-10/timepot.2019-10-17.log\n",
      "Processing ../../dataset-10/timepot.2019-10-16.log\n",
      "Processing ../../dataset-10/timepot.2019-10-02.log\n",
      "Processing ../../dataset-10/timepot.2019-10-27.log\n",
      "Processing ../../dataset-10/timepot.2019-10-26.log\n",
      "Processing ../../dataset-10/timepot.2019-10-30.log\n",
      "Processing ../../dataset-10/timepot.2019-10-24.log\n",
      "Processing ../../dataset-10/timepot.2019-10-18.log\n",
      "Processing ../../dataset-10/timepot.2019-10-19.log\n",
      "Processing ../../dataset-10/timepot.2019-10-25.log\n",
      "Processing ../../dataset-10/timepot.2019-10-09.log\n",
      "Processing ../../dataset-10/timepot.2019-10-21.log\n",
      "Processing ../../dataset-10/timepot.2019-10-20.log\n",
      "Processing ../../dataset-10/timepot.2019-10-08.log\n",
      "Processing ../../dataset-10/timepot.2019-10-22.log\n",
      "Processing ../../dataset-10/timepot.2019-10-23.log\n",
      "Processing 12847 log entries\n"
     ],
     "output_type": "stream"
    },
    {
     "data": {
      "text/plain": "13"
     },
     "metadata": {},
     "output_type": "execute_result",
     "execution_count": 18
    }
   ],
   "source": [
    "counter = get_eng_words_vector_from_logs_starting_with('timepot.2019-10')\n",
    "number_of_significant_words(counter)"
   ],
   "metadata": {
    "collapsed": false,
    "pycharm": {
     "name": "#%%\n",
     "is_executing": false
    }
   }
  },
  {
   "cell_type": "code",
   "execution_count": 12,
   "outputs": [
    {
     "name": "stdout",
     "text": [
      "Processing ../../dataset-10/frontend.2019-10-19.log\n",
      "Processing ../../dataset-10/frontend.2019-10-25.log\n",
      "Processing ../../dataset-10/frontend.2019-10-30.log\n",
      "Processing ../../dataset-10/frontend.2019-10-24.log\n",
      "Processing ../../dataset-10/frontend.2019-10-18.log\n",
      "Processing ../../dataset-10/frontend.2019-10-26.log\n",
      "Processing ../../dataset-10/frontend.2019-10-27.log\n",
      "Processing ../../dataset-10/frontend.2019-10-23.log\n",
      "Processing ../../dataset-10/frontend.2019-10-22.log\n",
      "Processing ../../dataset-10/frontend.2019-10-20.log\n",
      "Processing ../../dataset-10/frontend.2019-10-08.log\n",
      "Processing ../../dataset-10/frontend.2019-10-09.log\n",
      "Processing ../../dataset-10/frontend.2019-10-21.log\n",
      "Processing ../../dataset-10/frontend.2019-10-04.log\n",
      "Processing ../../dataset-10/frontend.2019-10-10.log\n",
      "Processing ../../dataset-10/frontend.2019-10-11.log\n",
      "Processing ../../dataset-10/frontend.2019-10-05.log\n",
      "Processing ../../dataset-10/frontend.2019-10-13.log\n",
      "Processing ../../dataset-10/frontend.2019-10-07.log\n",
      "Processing ../../dataset-10/frontend.2019-10-06.log\n",
      "Processing ../../dataset-10/frontend.2019-10-16.log\n",
      "Processing ../../dataset-10/frontend.2019-10-02.log\n",
      "Processing ../../dataset-10/frontend.2019-10-03.log\n",
      "Processing ../../dataset-10/frontend.2019-10-17.log\n",
      "Processing ../../dataset-10/frontend.2019-10-01.log\n",
      "Processing ../../dataset-10/frontend.2019-10-15.log\n",
      "Processing ../../dataset-10/frontend.2019-10-29.log\n",
      "Processing ../../dataset-10/frontend.2019-10-28.log\n",
      "Processing ../../dataset-10/frontend.2019-10-14.log\n",
      "Processing 976 log entries\n"
     ],
     "output_type": "stream"
    },
    {
     "data": {
      "text/plain": "45"
     },
     "metadata": {},
     "output_type": "execute_result",
     "execution_count": 12
    }
   ],
   "source": [
    "counter = get_eng_words_vector_from_logs_starting_with('frontend.2019-10')\n",
    "number_of_significant_words(counter)"
   ],
   "metadata": {
    "collapsed": false,
    "pycharm": {
     "name": "#%%\n",
     "is_executing": false
    }
   }
  },
  {
   "cell_type": "code",
   "execution_count": 15,
   "outputs": [
    {
     "name": "stdout",
     "text": [
      "Processing ../../dataset-10/braintree.2019-10-11.log\n",
      "Processing ../../dataset-10/braintree.2019-10-05.log\n",
      "Processing ../../dataset-10/braintree.2019-10-04.log\n",
      "Processing ../../dataset-10/braintree.2019-10-10.log\n",
      "Processing ../../dataset-10/braintree.2019-10-06.log\n",
      "Processing ../../dataset-10/braintree.2019-10-12.log\n",
      "Processing ../../dataset-10/braintree.2019-10-13.log\n",
      "Processing ../../dataset-10/braintree.2019-10-07.log\n",
      "Processing ../../dataset-10/braintree.2019-10-03.log\n",
      "Processing ../../dataset-10/braintree.2019-10-17.log\n",
      "Processing ../../dataset-10/braintree.2019-10-16.log\n",
      "Processing ../../dataset-10/braintree.2019-10-02.log\n",
      "Processing ../../dataset-10/braintree.2019-10-28.log\n",
      "Processing ../../dataset-10/braintree.2019-10-14.log\n",
      "Processing ../../dataset-10/braintree.2019-10-01.log\n",
      "Processing ../../dataset-10/braintree.2019-10-15.log\n",
      "Processing ../../dataset-10/braintree.2019-10-29.log\n",
      "Processing ../../dataset-10/braintree.2019-10-30.log\n",
      "Processing ../../dataset-10/braintree.2019-10-24.log\n",
      "Processing ../../dataset-10/braintree.2019-10-18.log\n",
      "Processing ../../dataset-10/braintree.2019-10-19.log\n",
      "Processing ../../dataset-10/braintree.2019-10-25.log\n",
      "Processing ../../dataset-10/braintree.2019-10-27.log\n",
      "Processing ../../dataset-10/braintree.2019-10-26.log\n",
      "Processing ../../dataset-10/braintree.2019-10-22.log\n",
      "Processing ../../dataset-10/braintree.2019-10-23.log\n",
      "Processing ../../dataset-10/braintree.2019-10-09.log\n",
      "Processing ../../dataset-10/braintree.2019-10-21.log\n",
      "Processing ../../dataset-10/braintree.2019-10-20.log\n",
      "Processing ../../dataset-10/braintree.2019-10-08.log\n",
      "Processing 16459 log entries\n"
     ],
     "output_type": "stream"
    },
    {
     "data": {
      "text/plain": "48"
     },
     "metadata": {},
     "output_type": "execute_result",
     "execution_count": 15
    }
   ],
   "source": [
    "counter = get_eng_words_vector_from_logs_starting_with('braintree.2019-10')\n",
    "number_of_significant_words(counter)"
   ],
   "metadata": {
    "collapsed": false,
    "pycharm": {
     "name": "#%%\n",
     "is_executing": false
    }
   }
  },
  {
   "cell_type": "code",
   "execution_count": 20,
   "outputs": [
    {
     "data": {
      "text/plain": "47"
     },
     "metadata": {},
     "output_type": "execute_result",
     "execution_count": 20
    }
   ],
   "source": [],
   "metadata": {
    "collapsed": false,
    "pycharm": {
     "name": "#%%\n",
     "is_executing": false
    }
   }
  }
 ],
 "metadata": {
  "kernelspec": {
   "display_name": "Python 3",
   "language": "python",
   "name": "python3"
  },
  "language_info": {
   "codemirror_mode": {
    "name": "ipython",
    "version": 2
   },
   "file_extension": ".py",
   "mimetype": "text/x-python",
   "name": "python",
   "nbconvert_exporter": "python",
   "pygments_lexer": "ipython2",
   "version": "2.7.6"
  },
  "pycharm": {
   "stem_cell": {
    "cell_type": "raw",
    "source": [],
    "metadata": {
     "collapsed": false
    }
   }
  }
 },
 "nbformat": 4,
 "nbformat_minor": 0
}