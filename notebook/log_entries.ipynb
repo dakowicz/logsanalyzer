{
 "cells": [
  {
   "cell_type": "code",
   "execution_count": 7,
   "metadata": {
    "pycharm": {
     "is_executing": false
    }
   },
   "outputs": [],
   "source": [
    "import datetime \n",
    "import os\n",
    "\n",
    "rootPath = '../../dataset-10/'\n",
    "loggingLevels = ['TRACE', 'DEBUG', 'INFO', 'WARN', 'ERROR']\n",
    "    \n",
    "def get_all_log_entries(file_prefix):\n",
    "    all_log_entries = []\n",
    "    for filename in os.listdir(rootPath):\n",
    "        if filename.endswith('.log') and filename.startswith(file_prefix):\n",
    "            filepath = rootPath + filename\n",
    "            all_log_entries.extend(process_file(filepath))\n",
    "    return all_log_entries\n",
    "    \n",
    "def process_file(filepath):\n",
    "    print('Processing ' + filepath)\n",
    "    f = open(filepath, \"r+\")\n",
    "    allLines = f.readlines()\n",
    "    parsedDates = []\n",
    "    logEntries = []\n",
    "    for line in allLines:\n",
    "        process_entry(filepath,line,logEntries,parsedDates)\n",
    "    f.close()\n",
    "    return logEntries\n",
    "    \n",
    "def process_entry(filepath, line, logEntries, parsedDates):\n",
    "    if any(line.startswith(x) for x in loggingLevels):\n",
    "        splittedLine = line.split(None, 6)\n",
    "        newEntry = dict(log_level = splittedLine[0])\n",
    "        process_date(newEntry,parsedDates,splittedLine)\n",
    "        process_thread_name(filepath,newEntry,splittedLine)\n",
    "        process_logger_name(newEntry,splittedLine)\n",
    "        newEntry['msg'] = splittedLine[6]\n",
    "        logEntries.append(newEntry)\n",
    "    else:\n",
    "        append_line_to_last_msg(line,logEntries)\n",
    "        \n",
    "def append_line_to_last_msg(line, logEntries):\n",
    "    if logEntries:\n",
    "        logEntries[-1]['msg'] = logEntries[-1]['msg'] + line\n",
    "\n",
    "def process_logger_name(newEntry, splittedLine):\n",
    "    if splittedLine[4] != '':\n",
    "        loggerName = splittedLine[4].split('.')[-1]\n",
    "        if loggerName != '':\n",
    "            newEntry['logger_name'] = loggerName\n",
    "    \n",
    "def process_thread_name(filepath, newEntry, splittedLine):\n",
    "    if splittedLine[3] != '':\n",
    "        if 'timepot' in filepath:\n",
    "            threadNameWithUserId = splittedLine[3].split('][uid:')\n",
    "            if len(threadNameWithUserId) > 0:\n",
    "                threadName = threadNameWithUserId[0].replace('[', '')\n",
    "                if threadName != '':\n",
    "                    newEntry['thread_name'] = threadName\n",
    "            if len(threadNameWithUserId) > 1: \n",
    "                userId = threadNameWithUserId[1].replace(']', '')\n",
    "                if userId.isdigit():\n",
    "                    newEntry['user_id'] = userId\n",
    "        else:\n",
    "            threadName = splittedLine[3][1:-1]\n",
    "            if threadName != '':\n",
    "                newEntry['thread_name'] = threadName\n",
    "                \n",
    "def process_date(newEntry, parsedDates, splittedLine):\n",
    "    if splittedLine[1] != '' and splittedLine[2] != '':\n",
    "        parsedDate = datetime.datetime.strptime(splittedLine[1] + splittedLine[2], '%Y-%m-%d%H:%M:%S.%f')\n",
    "        parsedDates.append(parsedDate)\n",
    "        newEntry['log_date'] = parsedDate"
   ]
  },
  {
   "cell_type": "code",
   "execution_count": null,
   "outputs": [],
   "source": [
    "\n"
   ],
   "metadata": {
    "collapsed": false,
    "pycharm": {
     "name": "#%%\n"
    }
   }
  }
 ],
 "metadata": {
  "kernelspec": {
   "display_name": "Python 3",
   "language": "python",
   "name": "python3"
  },
  "language_info": {
   "codemirror_mode": {
    "name": "ipython",
    "version": 3
   },
   "file_extension": ".py",
   "mimetype": "text/x-python",
   "name": "python",
   "nbconvert_exporter": "python",
   "pygments_lexer": "ipython3",
   "version": "3.7.4"
  },
  "pycharm": {
   "stem_cell": {
    "cell_type": "raw",
    "source": [],
    "metadata": {
     "collapsed": false
    }
   }
  }
 },
 "nbformat": 4,
 "nbformat_minor": 1
}