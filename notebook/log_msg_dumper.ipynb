{
 "cells": [
  {
   "cell_type": "code",
   "execution_count": 4,
   "metadata": {
    "pycharm": {
     "is_executing": false
    }
   },
   "outputs": [],
   "source": [
    "\n",
    "import nltk\n",
    "%matplotlib inline\n",
    "\n",
    "from ipynb.fs.full.log_entries import get_all_log_entries"
   ]
  },
  {
   "cell_type": "code",
   "execution_count": 5,
   "metadata": {
    "pycharm": {
     "is_executing": false,
     "name": "#%%\n"
    }
   },
   "outputs": [],
   "source": [
    "def dump_log_messages_to_file(filename, log_file_prefix):\n",
    "    with open('../../' + filename + '-log-msg.txt', mode='w') as file:\n",
    "        log_entries = get_all_log_entries(log_file_prefix)\n",
    "        for entry in log_entries:\n",
    "            msg = entry['msg']\n",
    "            if msg != '':\n",
    "                file.write(msg)"
   ]
  },
  {
   "cell_type": "code",
   "execution_count": 6,
   "metadata": {
    "pycharm": {
     "is_executing": false,
     "name": "#%%\n"
    }
   },
   "outputs": [],
   "source": [
    "def dump_log_message_words_to_file(filename, log_file_prefix):\n",
    "    start_log_msg_token = '<s>'\n",
    "    end_log_msg_token = '</s>'\n",
    "    with open('../../' + filename + '-all-words.txt', mode='a') as file:\n",
    "        entries = get_all_log_entries(log_file_prefix)\n",
    "        print(\"Processing \" + len(entries).__str__() + \" log entries\")\n",
    "        for entry in entries:\n",
    "            msg = entry['msg']\n",
    "            words = nltk.word_tokenize(msg)\n",
    "            file.write(start_log_msg_token + '\\n')\n",
    "            for word in words:\n",
    "                file.write(word.lower() + '\\n')\n",
    "            file.write(end_log_msg_token + '\\n')"
   ]
  },
  {
   "cell_type": "code",
   "execution_count": 7,
   "metadata": {
    "pycharm": {
     "is_executing": false,
     "name": "#%%\n"
    }
   },
   "outputs": [],
   "source": [
    "def dump_log_message_eng_words_to_file(filename, log_file_prefix):\n",
    "    with open('../../' + filename + '-eng-words.txt', mode='a') as file:\n",
    "        entries = get_all_log_entries(log_file_prefix)\n",
    "        print(\"Processing \" + len(entries).__str__() + \" log entries\")\n",
    "        eng_words = {*map(lambda x: x.lower(), nltk.corpus.words.words())}\n",
    "        for entry in entries:\n",
    "            msg = entry['msg']\n",
    "            words = nltk.word_tokenize(msg)\n",
    "            for word in words:\n",
    "                if word.lower() in eng_words:\n",
    "                    file.write(word.lower() + '\\n')"
   ]
  },
  {
   "cell_type": "code",
   "execution_count": 1,
   "metadata": {
    "pycharm": {
     "is_executing": false,
     "name": "#%%\n"
    }
   },
   "outputs": [],
   "source": [
    "def dump_all_using(filename, function):\n",
    "    for i in range(0, 31):\n",
    "        if i < 10:\n",
    "            function(filename, filename + '.2019-10-0' + i.__str__())\n",
    "        else:\n",
    "            function(filename, filename + '.2019-10-' + i.__str__())"
   ]
  },
  {
   "cell_type": "code",
   "execution_count": null,
   "outputs": [],
   "source": [
    "\n"
   ],
   "metadata": {
    "collapsed": false,
    "pycharm": {
     "name": "#%%\n"
    }
   }
  }
 ],
 "metadata": {
  "kernelspec": {
   "display_name": "Python 3",
   "language": "python",
   "name": "python3"
  },
  "language_info": {
   "codemirror_mode": {
    "name": "ipython",
    "version": 3
   },
   "file_extension": ".py",
   "mimetype": "text/x-python",
   "name": "python",
   "nbconvert_exporter": "python",
   "pygments_lexer": "ipython3",
   "version": "3.7.4"
  },
  "pycharm": {
   "stem_cell": {
    "cell_type": "raw",
    "source": [],
    "metadata": {
     "collapsed": false
    }
   }
  }
 },
 "nbformat": 4,
 "nbformat_minor": 1
}