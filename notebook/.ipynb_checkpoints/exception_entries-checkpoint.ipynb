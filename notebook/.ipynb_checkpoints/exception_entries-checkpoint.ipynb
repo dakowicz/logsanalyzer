{
 "cells": [
  {
   "cell_type": "code",
   "execution_count": 35,
   "metadata": {
    "collapsed": true,
    "pycharm": {
     "is_executing": false
    }
   },
   "outputs": [
    {
     "name": "stderr",
     "output_type": "stream",
     "text": [
      "[nltk_data] Downloading package punkt to\n",
      "[nltk_data]     /Users/tomaszdakowicz2/nltk_data...\n",
      "[nltk_data]   Package punkt is already up-to-date!\n"
     ]
    },
    {
     "data": {
      "text/plain": [
       "True"
      ]
     },
     "execution_count": 35,
     "metadata": {},
     "output_type": "execute_result"
    }
   ],
   "source": [
    "from collections import Counter\n",
    "\n",
    "import nltk\n",
    "from ipynb.fs.full.log_entries import get_all_log_entries\n",
    "import matplotlib.dates as mdates\n",
    "import matplotlib.pyplot as plt\n",
    "\n",
    "%matplotlib inline\n",
    "nltk.download('punkt')"
   ]
  },
  {
   "cell_type": "code",
   "execution_count": 14,
   "metadata": {
    "pycharm": {
     "is_executing": false,
     "name": "#%%\n"
    }
   },
   "outputs": [],
   "source": [
    "def timepot_thrown_exception_counter():\n",
    "    filename_prefix = 'timepot'\n",
    "    exception_java_class_counter = Counter()\n",
    "    entries = get_all_log_entries(filename_prefix)\n",
    "    for entry in entries:\n",
    "        tokenized_msg = nltk.word_tokenize(entry['msg'])\n",
    "        is_exception_entry = False\n",
    "        for token in tokenized_msg:\n",
    "            if token.endswith('Exception'):\n",
    "                subtokens = token.split(sep = '.')\n",
    "                exception_java_class = subtokens[-1]\n",
    "                if exception_java_class[0].isupper():\n",
    "                    exception_java_class_counter[exception_java_class] += 1\n",
    "                    is_exception_entry = True\n",
    "            if is_exception_entry is True:\n",
    "                break\n",
    "    return exception_java_class_counter"
   ]
  },
  {
   "cell_type": "code",
   "execution_count": 25,
   "metadata": {
    "pycharm": {
     "is_executing": false,
     "name": "#%%\n"
    }
   },
   "outputs": [],
   "source": [
    "def is_exception_entry(entry):\n",
    "    tokenized_msg = nltk.word_tokenize(entry['msg'])\n",
    "    for token in tokenized_msg:\n",
    "        if token.endswith('Exception'):\n",
    "            subtokens = token.split(sep = '.')\n",
    "            exception_java_class = subtokens[-1]\n",
    "            if exception_java_class[0].isupper():\n",
    "                return True\n",
    "    return False\n",
    "\n",
    "def timepot_thrown_exceptions_per_day_counter():\n",
    "    filename_prefix = 'timepot'\n",
    "    exception_per_day_counter = Counter()\n",
    "    entries = get_all_log_entries(filename_prefix)\n",
    "    for entry in entries:\n",
    "        entry_log_date = entry['log_date'].date()\n",
    "        if is_exception_entry(entry):\n",
    "            exception_per_day_counter[entry_log_date] += 1\n",
    "    return exception_per_day_counter"
   ]
  },
  {
   "cell_type": "code",
   "execution_count": 15,
   "metadata": {
    "pycharm": {
     "is_executing": false,
     "name": "#%%\n"
    }
   },
   "outputs": [
    {
     "name": "stdout",
     "output_type": "stream",
     "text": [
      "Processing ../../dataset-10/timepot.2019-10-06.log\n",
      "Processing ../../dataset-10/timepot.2019-10-12.log\n",
      "Processing ../../dataset-10/timepot.2019-10-13.log\n",
      "Processing ../../dataset-10/timepot.2019-10-07.log\n",
      "Processing ../../dataset-10/timepot.2019-10-11.log\n",
      "Processing ../../dataset-10/timepot.2019-10-05.log\n",
      "Processing ../../dataset-10/timepot.2019-10-04.log\n",
      "Processing ../../dataset-10/timepot.2019-10-10.log\n",
      "Processing ../../dataset-10/timepot.2019-10-28.log\n",
      "Processing ../../dataset-10/timepot.2019-10-14.log\n",
      "Processing ../../dataset-10/timepot.2019-10-01.log\n",
      "Processing ../../dataset-10/timepot.2019-10-15.log\n",
      "Processing ../../dataset-10/timepot.2019-10-29.log\n",
      "Processing ../../dataset-10/timepot.2019-10-03.log\n",
      "Processing ../../dataset-10/timepot.2019-10-17.log\n",
      "Processing ../../dataset-10/timepot.2019-10-16.log\n",
      "Processing ../../dataset-10/timepot.2019-10-02.log\n",
      "Processing ../../dataset-10/timepot.2019-10-27.log\n",
      "Processing ../../dataset-10/timepot.2019-10-26.log\n",
      "Processing ../../dataset-10/timepot.2019-10-30.log\n",
      "Processing ../../dataset-10/timepot.2019-10-24.log\n",
      "Processing ../../dataset-10/timepot.2019-10-18.log\n",
      "Processing ../../dataset-10/timepot.2019-10-19.log\n",
      "Processing ../../dataset-10/timepot.2019-10-25.log\n",
      "Processing ../../dataset-10/timepot.2019-10-09.log\n",
      "Processing ../../dataset-10/timepot.2019-10-21.log\n",
      "Processing ../../dataset-10/timepot.2019-10-20.log\n",
      "Processing ../../dataset-10/timepot.2019-10-08.log\n",
      "Processing ../../dataset-10/timepot.2019-10-22.log\n",
      "Processing ../../dataset-10/timepot.2019-10-23.log\n"
     ]
    },
    {
     "data": {
      "text/plain": [
       "[('SubscriptionException', 1042),\n",
       " ('ClientAbortException', 22),\n",
       " ('IOException', 16),\n",
       " ('BrokerStoppedException', 12),\n",
       " ('NotFoundException', 7),\n",
       " ('NullPointerException', 7),\n",
       " ('JMSException', 5),\n",
       " ('DuplicateKeyException', 5),\n",
       " ('RuntimeException', 4),\n",
       " ('JsonProcessingException', 4),\n",
       " ('CannotAcquireLockException', 3),\n",
       " ('IllegalArgumentException', 2)]"
      ]
     },
     "execution_count": 15,
     "metadata": {},
     "output_type": "execute_result"
    }
   ],
   "source": [
    "timepot_thrown_exception_counter().most_common(20)"
   ]
  },
  {
   "cell_type": "code",
   "execution_count": 26,
   "metadata": {
    "pycharm": {
     "is_executing": false,
     "name": "#%%\n"
    }
   },
   "outputs": [
    {
     "name": "stdout",
     "output_type": "stream",
     "text": [
      "Processing ../../dataset-10/timepot.2019-10-06.log\n",
      "Processing ../../dataset-10/timepot.2019-10-12.log\n",
      "Processing ../../dataset-10/timepot.2019-10-13.log\n",
      "Processing ../../dataset-10/timepot.2019-10-07.log\n",
      "Processing ../../dataset-10/timepot.2019-10-11.log\n",
      "Processing ../../dataset-10/timepot.2019-10-05.log\n",
      "Processing ../../dataset-10/timepot.2019-10-04.log\n",
      "Processing ../../dataset-10/timepot.2019-10-10.log\n",
      "Processing ../../dataset-10/timepot.2019-10-28.log\n",
      "Processing ../../dataset-10/timepot.2019-10-14.log\n",
      "Processing ../../dataset-10/timepot.2019-10-01.log\n",
      "Processing ../../dataset-10/timepot.2019-10-15.log\n",
      "Processing ../../dataset-10/timepot.2019-10-29.log\n",
      "Processing ../../dataset-10/timepot.2019-10-03.log\n",
      "Processing ../../dataset-10/timepot.2019-10-17.log\n",
      "Processing ../../dataset-10/timepot.2019-10-16.log\n",
      "Processing ../../dataset-10/timepot.2019-10-02.log\n",
      "Processing ../../dataset-10/timepot.2019-10-27.log\n",
      "Processing ../../dataset-10/timepot.2019-10-26.log\n",
      "Processing ../../dataset-10/timepot.2019-10-30.log\n",
      "Processing ../../dataset-10/timepot.2019-10-24.log\n",
      "Processing ../../dataset-10/timepot.2019-10-18.log\n",
      "Processing ../../dataset-10/timepot.2019-10-19.log\n",
      "Processing ../../dataset-10/timepot.2019-10-25.log\n",
      "Processing ../../dataset-10/timepot.2019-10-09.log\n",
      "Processing ../../dataset-10/timepot.2019-10-21.log\n",
      "Processing ../../dataset-10/timepot.2019-10-20.log\n",
      "Processing ../../dataset-10/timepot.2019-10-08.log\n",
      "Processing ../../dataset-10/timepot.2019-10-22.log\n",
      "Processing ../../dataset-10/timepot.2019-10-23.log\n"
     ]
    }
   ],
   "source": [
    "per_day_counter = timepot_thrown_exceptions_per_day_counter()"
   ]
  },
  {
   "cell_type": "code",
   "execution_count": 33,
   "metadata": {
    "pycharm": {
     "is_executing": false,
     "name": "#%%\n"
    }
   },
   "outputs": [],
   "source": [
    "per_day_counter_sorted = sorted(per_day_counter.items(), key=lambda x: x[0])"
   ]
  },
  {
   "cell_type": "code",
   "execution_count": 40,
   "metadata": {
    "pycharm": {
     "is_executing": false,
     "name": "#%%\n"
    }
   },
   "outputs": [
    {
     "data": {
      "text/plain": [
       "[<matplotlib.lines.Line2D at 0x117568490>]"
      ]
     },
     "execution_count": 40,
     "metadata": {},
     "output_type": "execute_result"
    },
    {
     "data": {
      "image/png": "[encoded data removed]",
      "text/plain": [
       "<Figure size 720x432 with 1 Axes>"
      ]
     },
     "metadata": {
      "needs_background": "light"
     },
     "output_type": "display_data"
    }
   ],
   "source": [
    "mat_dates = mdates.date2num([x[0] for x in per_day_counter_sorted[1:]])\n",
    "mat_values = [x[1] for x in per_day_counter_sorted[1:]]\n",
    "\n",
    "plt.figure(figsize=(10, 6))\n",
    "plt.grid(True)\n",
    "plt.gca().xaxis.set_major_formatter(mdates.DateFormatter('%Y-%m-%d'))\n",
    "plt.gca().xaxis.set_major_locator(mdates.DayLocator(interval=7))\n",
    "plt.plot_date(mat_dates, mat_values, '-o')"
   ]
  },
  {
   "cell_type": "code",
   "execution_count": null,
   "metadata": {
    "pycharm": {
     "name": "#%%\n"
    }
   },
   "outputs": [],
   "source": [
    "\n"
   ]
  }
 ],
 "metadata": {
  "kernelspec": {
   "display_name": "Python 3",
   "language": "python",
   "name": "python3"
  },
  "language_info": {
   "codemirror_mode": {
    "name": "ipython",
    "version": 3
   },
   "file_extension": ".py",
   "mimetype": "text/x-python",
   "name": "python",
   "nbconvert_exporter": "python",
   "pygments_lexer": "ipython3",
   "version": "3.7.4"
  },
  "pycharm": {
   "stem_cell": {
    "cell_type": "raw",
    "metadata": {
     "collapsed": false
    },
    "source": []
   }
  }
 },
 "nbformat": 4,
 "nbformat_minor": 1
}
