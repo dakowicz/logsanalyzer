{
 "cells": [
  {
   "cell_type": "code",
   "execution_count": 2,
   "metadata": {
    "collapsed": true,
    "pycharm": {
     "is_executing": false
    }
   },
   "outputs": [
    {
     "name": "stderr",
     "output_type": "stream",
     "text": [
      "[nltk_data] Downloading package punkt to\n",
      "[nltk_data]     /Users/tomaszdakowicz2/nltk_data...\n",
      "[nltk_data]   Package punkt is already up-to-date!\n",
      "[nltk_data] Downloading package words to\n",
      "[nltk_data]     /Users/tomaszdakowicz2/nltk_data...\n",
      "[nltk_data]   Package words is already up-to-date!\n",
      "[nltk_data] Downloading package stopwords to\n",
      "[nltk_data]     /Users/tomaszdakowicz2/nltk_data...\n",
      "[nltk_data]   Package stopwords is already up-to-date!\n"
     ]
    }
   ],
   "source": [
    "import math\n",
    "from collections import Counter\n",
    "\n",
    "import matplotlib.pyplot as plt\n",
    "import nltk\n",
    "from ipynb.fs.full.term_frequency import get_eng_words_vector_from_logs_starting_with\n",
    "from ipynb.fs.full.term_frequency import plot_all_eng_words"
   ]
  },
  {
   "cell_type": "code",
   "execution_count": 3,
   "metadata": {
    "pycharm": {
     "is_executing": false,
     "name": "#%%\n"
    }
   },
   "outputs": [],
   "source": [
    "def number_of_significant_words(counter):\n",
    "    one_percent = sum(counter.values()) /1000\n",
    "    number_of = 0\n",
    "    for c in set(counter):\n",
    "        if counter[c] > one_percent:\n",
    "            number_of += 1\n",
    "    return number_of"
   ]
  },
  {
   "cell_type": "code",
   "execution_count": 4,
   "metadata": {
    "pycharm": {
     "is_executing": false,
     "name": "#%%\n"
    }
   },
   "outputs": [],
   "source": [
    "def is_word(word):\n",
    "    for c in word:\n",
    "        if not c.isalpha():\n",
    "            return False\n",
    "    return True\n",
    "\n",
    "def is_start_of_log_msg(word):\n",
    "    return word == '<s>'\n",
    "\n",
    "def is_end_of_log_msg(word):\n",
    "    return word == '</s>'\n",
    "\n",
    "def get_df_counter(filename_prefix):\n",
    "    df_counter = Counter()\n",
    "    log_msg_words = []\n",
    "    total_count = 0\n",
    "    eng_words = {*map(lambda x: x.lower(), nltk.corpus.words.words())}\n",
    "    with open('../../' + filename_prefix + '-all-words.txt', mode='r') as file:\n",
    "        for word in file:\n",
    "            current_word = word.strip()\n",
    "            if is_start_of_log_msg(current_word):\n",
    "                log_msg_words = []\n",
    "            elif is_end_of_log_msg(current_word):\n",
    "                for w in set(log_msg_words):\n",
    "                    df_counter[w] += 1\n",
    "            elif current_word in eng_words:\n",
    "                log_msg_words.append(current_word)\n",
    "                total_count += 1\n",
    "    return df_counter, total_count\n",
    "\n",
    "def get_idf_counter(filename_prefix):\n",
    "    df_counter, total_count = get_df_counter(filename_prefix)\n",
    "    idf_counter = Counter()\n",
    "    for w in df_counter:\n",
    "        idf_value = math.log10(total_count/df_counter[w])\n",
    "        idf_counter[w] = idf_value\n",
    "    return idf_counter"
   ]
  },
  {
   "cell_type": "code",
   "execution_count": 1,
   "metadata": {
    "pycharm": {
     "is_executing": false,
     "name": "#%%\n"
    }
   },
   "outputs": [],
   "source": [
    "def get_count(x, y):\n",
    "    return y\n",
    "\n",
    "def plot_counter(cc):\n",
    "    plt.figure(figsize=(10, 6))\n",
    "    plt.grid(True)\n",
    "    plt.plot(\n",
    "        [*map(lambda x: get_count(*x), cc.most_common())]\n",
    "    )"
   ]
  },
  {
   "cell_type": "code",
   "execution_count": 33,
   "metadata": {
    "pycharm": {
     "is_executing": false,
     "name": "#%%\n"
    }
   },
   "outputs": [
    {
     "name": "stdout",
     "output_type": "stream",
     "text": [
      "Processing ../../dataset-10/timepot.2019-10-06.log\n",
      "Processing ../../dataset-10/timepot.2019-10-12.log\n",
      "Processing ../../dataset-10/timepot.2019-10-13.log\n",
      "Processing ../../dataset-10/timepot.2019-10-07.log\n",
      "Processing ../../dataset-10/timepot.2019-10-11.log\n",
      "Processing ../../dataset-10/timepot.2019-10-05.log\n",
      "Processing ../../dataset-10/timepot.2019-10-04.log\n",
      "Processing ../../dataset-10/timepot.2019-10-10.log\n",
      "Processing ../../dataset-10/timepot.2019-10-28.log\n",
      "Processing ../../dataset-10/timepot.2019-10-14.log\n",
      "Processing ../../dataset-10/timepot.2019-10-01.log\n",
      "Processing ../../dataset-10/timepot.2019-10-15.log\n",
      "Processing ../../dataset-10/timepot.2019-10-29.log\n",
      "Processing ../../dataset-10/timepot.2019-10-03.log\n",
      "Processing ../../dataset-10/timepot.2019-10-17.log\n",
      "Processing ../../dataset-10/timepot.2019-10-16.log\n",
      "Processing ../../dataset-10/timepot.2019-10-02.log\n",
      "Processing ../../dataset-10/timepot.2019-10-27.log\n",
      "Processing ../../dataset-10/timepot.2019-10-26.log\n",
      "Processing ../../dataset-10/timepot.2019-10-30.log\n",
      "Processing ../../dataset-10/timepot.2019-10-24.log\n",
      "Processing ../../dataset-10/timepot.2019-10-18.log\n",
      "Processing ../../dataset-10/timepot.2019-10-19.log\n",
      "Processing ../../dataset-10/timepot.2019-10-25.log\n",
      "Processing ../../dataset-10/timepot.2019-10-09.log\n",
      "Processing ../../dataset-10/timepot.2019-10-21.log\n",
      "Processing ../../dataset-10/timepot.2019-10-20.log\n",
      "Processing ../../dataset-10/timepot.2019-10-08.log\n",
      "Processing ../../dataset-10/timepot.2019-10-22.log\n",
      "Processing ../../dataset-10/timepot.2019-10-23.log\n",
      "Processing 12847 log entries\n"
     ]
    },
    {
     "data": {
      "text/plain": [
       "[('at', 102017),\n",
       " ('sending', 4462),\n",
       " ('size', 4329),\n",
       " ('active', 4329),\n",
       " ('for', 3106),\n",
       " ('unknown', 2972),\n",
       " ('source', 2972),\n",
       " ('pool', 2891),\n",
       " ('connect', 2886),\n",
       " ('mail', 2800)]"
      ]
     },
     "execution_count": 33,
     "metadata": {},
     "output_type": "execute_result"
    }
   ],
   "source": [
    "get_eng_words_vector_from_logs_starting_with('timepot.2019-10').most_common(10)"
   ]
  },
  {
   "cell_type": "code",
   "execution_count": null,
   "metadata": {
    "pycharm": {
     "is_executing": false,
     "name": "#%%\n"
    }
   },
   "outputs": [],
   "source": [
    "get_eng_words_vector_from_logs_starting_with('frontend.2019-10').most_common(10)"
   ]
  },
  {
   "cell_type": "code",
   "execution_count": null,
   "metadata": {
    "pycharm": {
     "name": "#%%\n"
    }
   },
   "outputs": [],
   "source": [
    "get_eng_words_vector_from_logs_starting_with('braintree.2019-10').most_common(10)"
   ]
  },
  {
   "cell_type": "code",
   "execution_count": null,
   "metadata": {
    "pycharm": {
     "name": "#%%\n"
    }
   },
   "outputs": [],
   "source": [
    "get_eng_words_vector_from_logs_starting_with('message.2019-10-05').most_common(10)"
   ]
  },
  {
   "cell_type": "code",
   "execution_count": null,
   "metadata": {
    "pycharm": {
     "name": "#%%\n"
    }
   },
   "outputs": [],
   "source": [
    "plot_all_eng_words('timepot.2019-10')"
   ]
  },
  {
   "cell_type": "code",
   "execution_count": null,
   "metadata": {
    "pycharm": {
     "name": "#%%\n"
    }
   },
   "outputs": [],
   "source": [
    "plot_all_eng_words('frontend.2019-10')"
   ]
  },
  {
   "cell_type": "code",
   "execution_count": null,
   "metadata": {
    "pycharm": {
     "name": "#%%\n"
    }
   },
   "outputs": [],
   "source": [
    "plot_all_eng_words('braintree.2019-10')"
   ]
  },
  {
   "cell_type": "code",
   "execution_count": null,
   "metadata": {
    "pycharm": {
     "is_executing": false,
     "name": "#%%\n"
    }
   },
   "outputs": [],
   "source": [
    "plot_all_eng_words('message.2019-10-05')"
   ]
  },
  {
   "cell_type": "code",
   "execution_count": 5,
   "metadata": {
    "pycharm": {
     "is_executing": false,
     "name": "#%%\n"
    }
   },
   "outputs": [
    {
     "data": {
      "image/png": "[encoded data removed]",
      "text/plain": [
       "<Figure size 720x432 with 1 Axes>"
      ]
     },
     "metadata": {
      "needs_background": "light"
     },
     "output_type": "display_data"
    }
   ],
   "source": [
    "plot_counter(get_idf_counter('timepot'))"
   ]
  },
  {
   "cell_type": "code",
   "execution_count": 6,
   "metadata": {
    "pycharm": {
     "is_executing": false,
     "name": "#%%\n"
    }
   },
   "outputs": [
    {
     "data": {
      "image/png": "[encoded data removed]",
      "text/plain": [
       "<Figure size 720x432 with 1 Axes>"
      ]
     },
     "metadata": {
      "needs_background": "light"
     },
     "output_type": "display_data"
    }
   ],
   "source": [
    "plot_counter(get_idf_counter('frontend'))"
   ]
  },
  {
   "cell_type": "code",
   "execution_count": 7,
   "metadata": {
    "pycharm": {
     "is_executing": false,
     "name": "#%%\n"
    }
   },
   "outputs": [
    {
     "data": {
      "image/png": "[encoded data removed]",
      "text/plain": [
       "<Figure size 720x432 with 1 Axes>"
      ]
     },
     "metadata": {
      "needs_background": "light"
     },
     "output_type": "display_data"
    }
   ],
   "source": [
    "plot_counter(get_idf_counter('braintree'))"
   ]
  },
  {
   "cell_type": "code",
   "execution_count": 8,
   "metadata": {
    "pycharm": {
     "is_executing": false,
     "name": "#%%\n"
    }
   },
   "outputs": [
    {
     "data": {
      "image/png": "[encoded data removed]",
      "text/plain": [
       "<Figure size 720x432 with 1 Axes>"
      ]
     },
     "metadata": {
      "needs_background": "light"
     },
     "output_type": "display_data"
    }
   ],
   "source": [
    "plot_counter(get_idf_counter('message'))"
   ]
  },
  {
   "cell_type": "code",
   "execution_count": null,
   "metadata": {
    "pycharm": {
     "name": "#%%\n"
    }
   },
   "outputs": [],
   "source": [
    "\n"
   ]
  }
 ],
 "metadata": {
  "kernelspec": {
   "display_name": "Python 3",
   "language": "python",
   "name": "python3"
  },
  "language_info": {
   "codemirror_mode": {
    "name": "ipython",
    "version": 3
   },
   "file_extension": ".py",
   "mimetype": "text/x-python",
   "name": "python",
   "nbconvert_exporter": "python",
   "pygments_lexer": "ipython3",
   "version": "3.7.4"
  },
  "pycharm": {
   "stem_cell": {
    "cell_type": "raw",
    "metadata": {
     "collapsed": false
    },
    "source": []
   }
  }
 },
 "nbformat": 4,
 "nbformat_minor": 1
}
