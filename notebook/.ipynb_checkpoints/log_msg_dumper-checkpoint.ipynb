{
 "cells": [
  {
   "cell_type": "code",
   "execution_count": 1,
   "metadata": {
    "pycharm": {
     "is_executing": false
    }
   },
   "outputs": [],
   "source": [
    "\n",
    "import nltk\n",
    "%matplotlib inline\n",
    "\n",
    "from ipynb.fs.full.log_entries import get_all_log_entries"
   ]
  },
  {
   "cell_type": "code",
   "execution_count": 2,
   "metadata": {
    "pycharm": {
     "is_executing": false,
     "name": "#%%\n"
    }
   },
   "outputs": [],
   "source": [
    "def dump_log_messages_to_file(filename, log_file_prefix):\n",
    "    with open('../../' + filename + '-log-msg.txt', mode='w') as file:\n",
    "        log_entries = get_all_log_entries(log_file_prefix)\n",
    "        for entry in log_entries:\n",
    "            msg = entry['msg']\n",
    "            if msg != '':\n",
    "                file.write(msg)"
   ]
  },
  {
   "cell_type": "code",
   "execution_count": 3,
   "metadata": {
    "pycharm": {
     "is_executing": false,
     "name": "#%%\n"
    }
   },
   "outputs": [],
   "source": [
    "def dump_log_message_words_to_file(filename, log_file_prefix):\n",
    "    start_log_msg_token = '<s>'\n",
    "    end_log_msg_token = '</s>'\n",
    "    with open('../../' + filename + '-all-words.txt', mode='a') as file:\n",
    "        entries = get_all_log_entries(log_file_prefix)\n",
    "        print(\"Processing \" + len(entries).__str__() + \" log entries\")\n",
    "        for entry in entries:\n",
    "            msg = entry['msg']\n",
    "            words = nltk.word_tokenize(msg)\n",
    "            file.write(start_log_msg_token + '\\n')\n",
    "            for word in words:\n",
    "                file.write(word.lower() + '\\n')\n",
    "            file.write(end_log_msg_token + '\\n')"
   ]
  },
  {
   "cell_type": "code",
   "execution_count": 4,
   "metadata": {
    "pycharm": {
     "is_executing": false,
     "name": "#%%\n"
    }
   },
   "outputs": [],
   "source": [
    "def dump_log_message_eng_words_to_file(filename, log_file_prefix):\n",
    "    with open('../../' + filename + '-eng-words.txt', mode='a') as file:\n",
    "        entries = get_all_log_entries(log_file_prefix)\n",
    "        print(\"Processing \" + len(entries).__str__() + \" log entries\")\n",
    "        eng_words = {*map(lambda x: x.lower(), nltk.corpus.words.words())}\n",
    "        for entry in entries:\n",
    "            msg = entry['msg']\n",
    "            words = nltk.word_tokenize(msg)\n",
    "            for word in words:\n",
    "                if word.lower() in eng_words:\n",
    "                    file.write(word.lower() + '\\n')"
   ]
  },
  {
   "cell_type": "code",
   "execution_count": 5,
   "metadata": {
    "pycharm": {
     "is_executing": false,
     "name": "#%%\n"
    }
   },
   "outputs": [],
   "source": [
    "def dump_all_using(filename, function):\n",
    "    for i in range(15, 31):\n",
    "        if i < 10:\n",
    "            function(filename, filename + '.2019-10-0' + i.__str__())\n",
    "        else:\n",
    "            function(filename, filename + '.2019-10-' + i.__str__())"
   ]
  },
  {
   "cell_type": "code",
   "execution_count": 14,
   "metadata": {
    "pycharm": {
     "is_executing": false,
     "name": "#%%\n"
    }
   },
   "outputs": [
    {
     "name": "stdout",
     "output_type": "stream",
     "text": [
      "Processing ../../dataset-10/frontend.2019-10-01.log\n",
      "Processing 21 log entries\n",
      "Processing ../../dataset-10/frontend.2019-10-02.log\n",
      "Processing 45 log entries\n",
      "Processing ../../dataset-10/frontend.2019-10-03.log\n",
      "Processing 30 log entries\n",
      "Processing ../../dataset-10/frontend.2019-10-04.log\n",
      "Processing 45 log entries\n",
      "Processing ../../dataset-10/frontend.2019-10-05.log\n",
      "Processing 2 log entries\n",
      "Processing ../../dataset-10/frontend.2019-10-06.log\n",
      "Processing 3 log entries\n",
      "Processing ../../dataset-10/frontend.2019-10-07.log\n",
      "Processing 45 log entries\n",
      "Processing ../../dataset-10/frontend.2019-10-08.log\n",
      "Processing 41 log entries\n",
      "Processing ../../dataset-10/frontend.2019-10-09.log\n",
      "Processing 58 log entries\n",
      "Processing ../../dataset-10/frontend.2019-10-10.log\n",
      "Processing 27 log entries\n",
      "Processing ../../dataset-10/frontend.2019-10-11.log\n",
      "Processing 72 log entries\n",
      "Processing 0 log entries\n",
      "Processing ../../dataset-10/frontend.2019-10-13.log\n",
      "Processing 3 log entries\n",
      "Processing ../../dataset-10/frontend.2019-10-14.log\n",
      "Processing 35 log entries\n",
      "Processing ../../dataset-10/frontend.2019-10-15.log\n",
      "Processing 48 log entries\n",
      "Processing ../../dataset-10/frontend.2019-10-16.log\n",
      "Processing 32 log entries\n",
      "Processing ../../dataset-10/frontend.2019-10-17.log\n",
      "Processing 44 log entries\n",
      "Processing ../../dataset-10/frontend.2019-10-18.log\n",
      "Processing 46 log entries\n",
      "Processing ../../dataset-10/frontend.2019-10-19.log\n",
      "Processing 1 log entries\n",
      "Processing ../../dataset-10/frontend.2019-10-20.log\n",
      "Processing 5 log entries\n",
      "Processing ../../dataset-10/frontend.2019-10-21.log\n",
      "Processing 43 log entries\n",
      "Processing ../../dataset-10/frontend.2019-10-22.log\n",
      "Processing 68 log entries\n",
      "Processing ../../dataset-10/frontend.2019-10-23.log\n",
      "Processing 27 log entries\n",
      "Processing ../../dataset-10/frontend.2019-10-24.log\n",
      "Processing 33 log entries\n",
      "Processing ../../dataset-10/frontend.2019-10-25.log\n",
      "Processing 40 log entries\n",
      "Processing ../../dataset-10/frontend.2019-10-26.log\n",
      "Processing 2 log entries\n",
      "Processing ../../dataset-10/frontend.2019-10-27.log\n",
      "Processing 3 log entries\n",
      "Processing ../../dataset-10/frontend.2019-10-28.log\n",
      "Processing 67 log entries\n",
      "Processing ../../dataset-10/frontend.2019-10-29.log\n",
      "Processing 44 log entries\n",
      "Processing ../../dataset-10/frontend.2019-10-30.log\n",
      "Processing 46 log entries\n"
     ]
    }
   ],
   "source": [
    "dump_all_using('frontend', dump_log_message_words_to_file)"
   ]
  },
  {
   "cell_type": "code",
   "execution_count": 15,
   "metadata": {
    "pycharm": {
     "is_executing": false,
     "name": "#%%\n"
    }
   },
   "outputs": [
    {
     "name": "stdout",
     "output_type": "stream",
     "text": [
      "Processing ../../dataset-10/timepot.2019-10-01.log\n",
      "Processing 1140 log entries\n",
      "Processing ../../dataset-10/timepot.2019-10-02.log\n",
      "Processing 675 log entries\n",
      "Processing ../../dataset-10/timepot.2019-10-03.log\n",
      "Processing 623 log entries\n",
      "Processing ../../dataset-10/timepot.2019-10-04.log\n",
      "Processing 518 log entries\n",
      "Processing ../../dataset-10/timepot.2019-10-05.log\n",
      "Processing 209 log entries\n",
      "Processing ../../dataset-10/timepot.2019-10-06.log\n",
      "Processing 196 log entries\n",
      "Processing ../../dataset-10/timepot.2019-10-07.log\n",
      "Processing 902 log entries\n",
      "Processing ../../dataset-10/timepot.2019-10-08.log\n",
      "Processing 488 log entries\n",
      "Processing ../../dataset-10/timepot.2019-10-09.log\n",
      "Processing 361 log entries\n",
      "Processing ../../dataset-10/timepot.2019-10-10.log\n",
      "Processing 374 log entries\n",
      "Processing ../../dataset-10/timepot.2019-10-11.log\n",
      "Processing 541 log entries\n",
      "Processing ../../dataset-10/timepot.2019-10-12.log\n",
      "Processing 203 log entries\n",
      "Processing ../../dataset-10/timepot.2019-10-13.log\n",
      "Processing 213 log entries\n",
      "Processing ../../dataset-10/timepot.2019-10-14.log\n",
      "Processing 402 log entries\n",
      "Processing ../../dataset-10/timepot.2019-10-15.log\n",
      "Processing 401 log entries\n",
      "Processing ../../dataset-10/timepot.2019-10-16.log\n",
      "Processing 365 log entries\n",
      "Processing ../../dataset-10/timepot.2019-10-17.log\n",
      "Processing 392 log entries\n",
      "Processing ../../dataset-10/timepot.2019-10-18.log\n",
      "Processing 485 log entries\n",
      "Processing ../../dataset-10/timepot.2019-10-19.log\n",
      "Processing 195 log entries\n",
      "Processing ../../dataset-10/timepot.2019-10-20.log\n",
      "Processing 197 log entries\n",
      "Processing ../../dataset-10/timepot.2019-10-21.log\n",
      "Processing 380 log entries\n",
      "Processing ../../dataset-10/timepot.2019-10-22.log\n",
      "Processing 402 log entries\n",
      "Processing ../../dataset-10/timepot.2019-10-23.log\n",
      "Processing 416 log entries\n",
      "Processing ../../dataset-10/timepot.2019-10-24.log\n",
      "Processing 414 log entries\n",
      "Processing ../../dataset-10/timepot.2019-10-25.log\n",
      "Processing 466 log entries\n",
      "Processing ../../dataset-10/timepot.2019-10-26.log\n",
      "Processing 218 log entries\n",
      "Processing ../../dataset-10/timepot.2019-10-27.log\n",
      "Processing 227 log entries\n",
      "Processing ../../dataset-10/timepot.2019-10-28.log\n",
      "Processing 602 log entries\n",
      "Processing ../../dataset-10/timepot.2019-10-29.log\n",
      "Processing 398 log entries\n",
      "Processing ../../dataset-10/timepot.2019-10-30.log\n",
      "Processing 444 log entries\n"
     ]
    }
   ],
   "source": [
    "dump_all_using('timepot', dump_log_message_words_to_file)"
   ]
  },
  {
   "cell_type": "code",
   "execution_count": 16,
   "metadata": {
    "pycharm": {
     "is_executing": false,
     "name": "#%%\n"
    }
   },
   "outputs": [
    {
     "name": "stdout",
     "output_type": "stream",
     "text": [
      "Processing ../../dataset-10/braintree.2019-10-01.log\n",
      "Processing 3072 log entries\n",
      "Processing ../../dataset-10/braintree.2019-10-02.log\n",
      "Processing 184 log entries\n",
      "Processing ../../dataset-10/braintree.2019-10-03.log\n",
      "Processing 117 log entries\n",
      "Processing ../../dataset-10/braintree.2019-10-04.log\n",
      "Processing 238 log entries\n",
      "Processing ../../dataset-10/braintree.2019-10-05.log\n",
      "Processing 50 log entries\n",
      "Processing ../../dataset-10/braintree.2019-10-06.log\n",
      "Processing 20 log entries\n",
      "Processing ../../dataset-10/braintree.2019-10-07.log\n",
      "Processing 23 log entries\n",
      "Processing ../../dataset-10/braintree.2019-10-08.log\n",
      "Processing 1363 log entries\n",
      "Processing ../../dataset-10/braintree.2019-10-09.log\n",
      "Processing 553 log entries\n",
      "Processing ../../dataset-10/braintree.2019-10-10.log\n",
      "Processing 546 log entries\n",
      "Processing ../../dataset-10/braintree.2019-10-11.log\n",
      "Processing 520 log entries\n",
      "Processing ../../dataset-10/braintree.2019-10-12.log\n",
      "Processing 520 log entries\n",
      "Processing ../../dataset-10/braintree.2019-10-13.log\n",
      "Processing 546 log entries\n",
      "Processing ../../dataset-10/braintree.2019-10-14.log\n",
      "Processing 536 log entries\n",
      "Processing ../../dataset-10/braintree.2019-10-15.log\n",
      "Processing 553 log entries\n",
      "Processing ../../dataset-10/braintree.2019-10-16.log\n",
      "Processing 517 log entries\n",
      "Processing ../../dataset-10/braintree.2019-10-17.log\n",
      "Processing 503 log entries\n",
      "Processing ../../dataset-10/braintree.2019-10-18.log\n",
      "Processing 509 log entries\n",
      "Processing ../../dataset-10/braintree.2019-10-19.log\n",
      "Processing 491 log entries\n",
      "Processing ../../dataset-10/braintree.2019-10-20.log\n",
      "Processing 500 log entries\n",
      "Processing ../../dataset-10/braintree.2019-10-21.log\n",
      "Processing 500 log entries\n",
      "Processing ../../dataset-10/braintree.2019-10-22.log\n",
      "Processing 497 log entries\n",
      "Processing ../../dataset-10/braintree.2019-10-23.log\n",
      "Processing 504 log entries\n",
      "Processing ../../dataset-10/braintree.2019-10-24.log\n",
      "Processing 520 log entries\n",
      "Processing ../../dataset-10/braintree.2019-10-25.log\n",
      "Processing 542 log entries\n",
      "Processing ../../dataset-10/braintree.2019-10-26.log\n",
      "Processing 507 log entries\n",
      "Processing ../../dataset-10/braintree.2019-10-27.log\n",
      "Processing 510 log entries\n",
      "Processing ../../dataset-10/braintree.2019-10-28.log\n",
      "Processing 494 log entries\n",
      "Processing ../../dataset-10/braintree.2019-10-29.log\n",
      "Processing 520 log entries\n",
      "Processing ../../dataset-10/braintree.2019-10-30.log\n",
      "Processing 504 log entries\n"
     ]
    }
   ],
   "source": [
    "dump_all_using('braintree', dump_log_message_words_to_file)"
   ]
  },
  {
   "cell_type": "code",
   "execution_count": null,
   "metadata": {
    "pycharm": {
     "is_executing": false,
     "name": "#%%\n"
    }
   },
   "outputs": [
    {
     "name": "stdout",
     "output_type": "stream",
     "text": [
      "Processing ../../dataset-10/message.2019-10-15.log\n",
      "Processing 188627 log entries\n",
      "Processing ../../dataset-10/message.2019-10-16.log\n",
      "Processing 193270 log entries\n",
      "Processing ../../dataset-10/message.2019-10-17.log\n",
      "Processing 171529 log entries\n",
      "Processing ../../dataset-10/message.2019-10-18.log\n",
      "Processing 202472 log entries\n",
      "Processing ../../dataset-10/message.2019-10-19.log\n",
      "Processing 49594 log entries\n",
      "Processing ../../dataset-10/message.2019-10-20.log\n",
      "Processing 56395 log entries\n",
      "Processing ../../dataset-10/message.2019-10-21.log\n",
      "Processing 220551 log entries\n",
      "Processing ../../dataset-10/message.2019-10-22.log\n",
      "Processing 186389 log entries\n",
      "Processing ../../dataset-10/message.2019-10-23.log\n",
      "Processing 187010 log entries\n",
      "Processing ../../dataset-10/message.2019-10-24.log\n",
      "Processing 170387 log entries\n",
      "Processing ../../dataset-10/message.2019-10-25.log\n",
      "Processing 199995 log entries\n",
      "Processing ../../dataset-10/message.2019-10-26.log\n",
      "Processing 53206 log entries\n",
      "Processing ../../dataset-10/message.2019-10-27.log\n",
      "Processing 55900 log entries\n",
      "Processing ../../dataset-10/message.2019-10-28.log\n",
      "Processing 248661 log entries\n"
     ]
    }
   ],
   "source": [
    "dump_all_using('message', dump_log_message_words_to_file)"
   ]
  },
  {
   "cell_type": "code",
   "execution_count": null,
   "metadata": {
    "pycharm": {
     "name": "#%%\n"
    }
   },
   "outputs": [],
   "source": [
    "\n"
   ]
  }
 ],
 "metadata": {
  "kernelspec": {
   "display_name": "Python 3",
   "language": "python",
   "name": "python3"
  },
  "language_info": {
   "codemirror_mode": {
    "name": "ipython",
    "version": 3
   },
   "file_extension": ".py",
   "mimetype": "text/x-python",
   "name": "python",
   "nbconvert_exporter": "python",
   "pygments_lexer": "ipython3",
   "version": "3.7.4"
  },
  "pycharm": {
   "stem_cell": {
    "cell_type": "raw",
    "metadata": {
     "collapsed": false
    },
    "source": []
   }
  }
 },
 "nbformat": 4,
 "nbformat_minor": 1
}
