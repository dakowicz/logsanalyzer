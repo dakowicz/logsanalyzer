{
 "cells": [
  {
   "cell_type": "code",
   "execution_count": 1,
   "metadata": {
    "pycharm": {
     "is_executing": false,
     "name": "#%%\n"
    }
   },
   "outputs": [
    {
     "name": "stdout",
     "output_type": "stream",
     "text": [
      "{'log_date': datetime.date(2019, 12, 17), 'number_of': 420} {'log_date': datetime.date(2019, 12, 16), 'number_of': 398} {'log_date': datetime.date(2019, 12, 14), 'number_of': 262} {'log_date': datetime.date(2019, 12, 15), 'number_of': 221}\n"
     ]
    }
   ],
   "source": [
    "import datetime\n",
    "import itertools\n",
    "import os\n",
    "\n",
    "def to_dates_count(x, y):\n",
    "    return dict(log_date=x, number_of=len(list(y)))\n",
    "\n",
    "\n",
    "def to_group_counter(x, y):\n",
    "    groupList = list(y)\n",
    "    return x, sum(map(lambda x, y: y, groupList))\n",
    "\n",
    "\n",
    "def group_by_date_and_count(x):\n",
    "    grouped = itertools.groupby(x, lambda x, _: x)\n",
    "    return map(lambda x, y: to_group_counter(x, y), grouped)\n",
    "\n",
    "rootPath = '../../dataset/'\n",
    "aggregated = []\n",
    "\n",
    "for filename in os.listdir(rootPath):\n",
    "    if filename.endswith('.log'):\n",
    "        filepath = rootPath + filename\n",
    "        f = open(filepath, \"r+\")\n",
    "        allLines = f.readlines()\n",
    "        loggingLevels = ['INFO', 'DEBUG', 'TRACE', 'ERROR']\n",
    "        filteredLines = []\n",
    "        parsedDates = []\n",
    "        for line in allLines:\n",
    "            if any(line.startswith(x) for x in loggingLevels):\n",
    "                filteredLines.append(line)\n",
    "                splittedLine = line.split(None, 3)\n",
    "                if splittedLine[1] != '' and splittedLine[2] != '':\n",
    "                    date = splittedLine[1] + splittedLine[2]\n",
    "                    parsedDate = datetime.datetime.strptime(date, '%Y-%m-%d%H:%M:%S.%f')\n",
    "                    parsedDates.append(parsedDate)\n",
    "        aggregated.extend(parsedDates)\n",
    "\n",
    "grouped = itertools.groupby(aggregated, lambda x: x.date())\n",
    "count_per_day = [*map(lambda x: to_dates_count(*x), grouped)]\n",
    "# dates = map(lambda x: x[\"log_date\"], count_per_day)\n",
    "# print([*dates])\n",
    "print(count_per_day)"
   ]
  },
  {
   "cell_type": "code",
   "execution_count": 2,
   "metadata": {
    "pycharm": {
     "is_executing": false,
     "name": "#%%\n"
    }
   },
   "outputs": [],
   "source": [
    "%matplotlib inline\n",
    "\n",
    "import matplotlib\n",
    "import numpy as np\n",
    "import matplotlib.pyplot as plt"
   ]
  },
  {
   "cell_type": "code",
   "execution_count": 3,
   "metadata": {
    "pycharm": {
     "is_executing": false,
     "name": "#%%\n"
    }
   },
   "outputs": [
    {
     "name": "stdout",
     "output_type": "stream",
     "text": [
      "[]\n"
     ]
    }
   ],
   "source": [
    "aggregated_dates = [x[\"log_date\"] for x in count_per_day]\n",
    "print(aggregated_dates)"
   ]
  },
  {
   "cell_type": "code",
   "execution_count": null,
   "metadata": {
    "pycharm": {
     "name": "#%%\n"
    }
   },
   "outputs": [],
   "source": [
    "\n"
   ]
  }
 ],
 "metadata": {
  "kernelspec": {
   "display_name": "Python 3",
   "language": "python",
   "name": "python3"
  },
  "language_info": {
   "codemirror_mode": {
    "name": "ipython",
    "version": 3
   },
   "file_extension": ".py",
   "mimetype": "text/x-python",
   "name": "python",
   "nbconvert_exporter": "python",
   "pygments_lexer": "ipython3",
   "version": "3.7.4"
  },
  "pycharm": {
   "stem_cell": {
    "cell_type": "raw",
    "metadata": {
     "collapsed": false
    },
    "source": []
   }
  }
 },
 "nbformat": 4,
 "nbformat_minor": 1
}
