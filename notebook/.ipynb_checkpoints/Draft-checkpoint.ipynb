{
 "cells": [
  {
   "cell_type": "code",
   "execution_count": 13,
   "metadata": {
    "pycharm": {
     "name": "#%%\n"
    }
   },
   "outputs": [],
   "source": [
    "import datetime\n",
    "import itertools\n",
    "import os"
   ]
  },
  {
   "cell_type": "code",
   "execution_count": 14,
   "metadata": {},
   "outputs": [],
   "source": [
    "def to_dates_count(x, y):\n",
    "    return x, len(list(y))\n",
    "\n",
    "\n",
    "def to_group_counter(x, y):\n",
    "    groupList = list(y)\n",
    "    return x, sum(map(lambda x, y: y, groupList))\n",
    "\n",
    "\n",
    "def group_by_date_and_count(x):\n",
    "    grouped = itertools.groupby(x, lambda x, _: x)\n",
    "    return map(lambda x, y: to_group_counter(x, y), grouped)"
   ]
  },
  {
   "cell_type": "code",
   "execution_count": 15,
   "metadata": {},
   "outputs": [],
   "source": [
    "rootPath = '../../dataset/'"
   ]
  },
  {
   "cell_type": "code",
   "execution_count": 16,
   "metadata": {},
   "outputs": [],
   "source": [
    "for filename in os.listdir(rootPath):\n",
    "    filepath = rootPath + filename\n",
    "    f = open(filepath, \"r+\")\n",
    "    allLines = f.readlines()\n",
    "    loggingLevels = ['INFO', 'DEBUG', 'TRACE', 'ERROR']\n",
    "    filteredLines = []\n",
    "    parsedDates = []\n",
    "    for line in allLines:\n",
    "        if any(line.startswith(x) for x in loggingLevels):\n",
    "            filteredLines.append(line)\n",
    "            splittedLine = line.split(None, 3)\n",
    "            if splittedLine[1] != '' and splittedLine[2] != '':\n",
    "                date = splittedLine[1] + splittedLine[2]\n",
    "                parsedDate = datetime.datetime.strptime(date, '%Y-%m-%d%H:%M:%S.%f')\n",
    "                parsedDates.append(parsedDate)"
   ]
  },
  {
   "cell_type": "code",
   "execution_count": 17,
   "metadata": {},
   "outputs": [],
   "source": [
    "grouped = itertools.groupby(parsedDates, lambda x: x.date())"
   ]
  },
  {
   "cell_type": "code",
   "execution_count": 18,
   "metadata": {},
   "outputs": [],
   "source": [
    "countOfDay = map(lambda x: to_dates_count(*x), grouped)"
   ]
  },
  {
   "cell_type": "code",
   "execution_count": 19,
   "metadata": {},
   "outputs": [
    {
     "data": {
      "text/plain": [
       "<map at 0x11468e150>"
      ]
     },
     "execution_count": 19,
     "metadata": {},
     "output_type": "execute_result"
    }
   ],
   "source": [
    "countOfDay."
   ]
  },
  {
   "cell_type": "code",
   "execution_count": null,
   "metadata": {},
   "outputs": [],
   "source": []
  }
 ],
 "metadata": {
  "kernelspec": {
   "display_name": "Python 3",
   "language": "python",
   "name": "python3"
  },
  "language_info": {
   "codemirror_mode": {
    "name": "ipython",
    "version": 3
   },
   "file_extension": ".py",
   "mimetype": "text/x-python",
   "name": "python",
   "nbconvert_exporter": "python",
   "pygments_lexer": "ipython3",
   "version": "3.7.4"
  },
  "pycharm": {
   "stem_cell": {
    "cell_type": "raw",
    "metadata": {
     "collapsed": false
    },
    "source": []
   }
  }
 },
 "nbformat": 4,
 "nbformat_minor": 1
}
