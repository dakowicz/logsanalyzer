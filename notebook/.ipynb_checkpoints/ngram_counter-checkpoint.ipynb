{
 "cells": [
  {
   "cell_type": "code",
   "execution_count": 22,
   "metadata": {
    "pycharm": {
     "is_executing": false
    }
   },
   "outputs": [],
   "source": [
    "from collections import Counter\n",
    "\n",
    "from ipynb.fs.full.term_frequency import get_eng_words_vector_from_file\n",
    "from ipynb.fs.full.term_frequency import plot_counter"
   ]
  },
  {
   "cell_type": "code",
   "execution_count": 23,
   "metadata": {
    "pycharm": {
     "is_executing": false,
     "name": "#%%\n"
    }
   },
   "outputs": [],
   "source": [
    "def get_bigram_counter_from_all_words_file(filename_prefix):\n",
    "    eng_words = set(get_eng_words_vector_from_file(filename_prefix + '-all-words.txt'))\n",
    "    bigram_counter = Counter()\n",
    "    with open('../../' + filename_prefix + '-all-words.txt', mode='r') as file:\n",
    "        first_word = file.__next__().strip()\n",
    "        for word in file:\n",
    "            second_word = word.strip()\n",
    "            if first_word in eng_words and second_word in eng_words:\n",
    "                bigram_counter[first_word + \" \" + second_word] += 1\n",
    "            first_word = second_word\n",
    "    return bigram_counter"
   ]
  },
  {
   "cell_type": "code",
   "execution_count": 24,
   "metadata": {},
   "outputs": [],
   "source": [
    "def is_word(string):\n",
    "    for i in string:\n",
    "        if not i.isalpha():\n",
    "            return False\n",
    "    return True\n",
    "\n",
    "def get_bigram_counter_words_from_all_words_file(filename_prefix):\n",
    "#     eng_words = set(get_eng_words_vector_from_file(filename_prefix + '-all-words.txt'))\n",
    "    bigram_counter = Counter()\n",
    "    with open('../../' + filename_prefix + '-all-words.txt', mode='r') as file:\n",
    "        first_word = file.__next__().strip()\n",
    "        for word in file:\n",
    "            second_word = word.strip()\n",
    "            if is_word(first_word) and is_word(second_word):\n",
    "                bigram_counter[first_word + \" \" + second_word] += 1\n",
    "            first_word = second_word\n",
    "    return bigram_counter"
   ]
  },
  {
   "cell_type": "code",
   "execution_count": 25,
   "metadata": {
    "pycharm": {
     "is_executing": false,
     "name": "#%%\n"
    }
   },
   "outputs": [],
   "source": [
    "def get_trigram_counter_from_all_words_file(filename_prefix):\n",
    "    eng_words = set(get_eng_words_vector_from_file(filename_prefix + '-all-words.txt'))\n",
    "    counter = Counter()\n",
    "    with open('../../' + filename_prefix + '-all-words.txt', mode='r') as file:\n",
    "        first_word = file.__next__().strip()\n",
    "        second_word = file.__next__().strip()\n",
    "        for word in file:\n",
    "            third_word = word.strip()\n",
    "            if first_word in eng_words and second_word in eng_words and third_word in eng_words:\n",
    "                counter[first_word + \" \" + second_word + \" \" + third_word] += 1\n",
    "            first_word = second_word\n",
    "            second_word = third_word\n",
    "    return counter\n"
   ]
  },
  {
   "cell_type": "code",
   "execution_count": 26,
   "metadata": {
    "pycharm": {
     "is_executing": false,
     "name": "#%%\n"
    }
   },
   "outputs": [
    {
     "data": {
      "text/plain": [
       "[('call to', 690),\n",
       " ('failed with', 690),\n",
       " ('with status', 690),\n",
       " ('can not', 357),\n",
       " ('is already', 350),\n",
       " ('not use', 344),\n",
       " ('use this', 344),\n",
       " ('name because', 344),\n",
       " ('because it', 344),\n",
       " ('it is', 344)]"
      ]
     },
     "execution_count": 26,
     "metadata": {},
     "output_type": "execute_result"
    }
   ],
   "source": [
    "get_bigram_counter_words_from_all_words_file('frontend').most_common(10)"
   ]
  },
  {
   "cell_type": "code",
   "execution_count": 29,
   "metadata": {},
   "outputs": [
    {
     "data": {
      "text/plain": [
       "[('unknown source', 2972),\n",
       " ('pool size', 2886),\n",
       " ('for type', 1627),\n",
       " ('finished sending', 1524),\n",
       " ('closed abnormally', 1443),\n",
       " ('connect failure', 1443),\n",
       " ('send limit', 1443),\n",
       " ('transport error', 1443),\n",
       " ('type daily', 1439),\n",
       " ('received after', 1435),\n",
       " ('sending mail', 1400),\n",
       " ('mail sent', 1400),\n",
       " ('null at', 1061),\n",
       " ('with offset', 817),\n",
       " ('selected start', 817),\n",
       " ('start date', 817),\n",
       " ('subscription exception', 743),\n",
       " ('daily with', 721),\n",
       " ('onto public', 500),\n",
       " ('not found', 303),\n",
       " ('sync for', 298),\n",
       " ('for company', 298),\n",
       " ('with id', 290),\n",
       " ('native method', 270),\n",
       " ('type weekly', 188),\n",
       " ('user with', 114),\n",
       " ('weekly with', 96),\n",
       " ('access control', 92),\n",
       " ('control expression', 92),\n",
       " ('expression attribute', 92),\n",
       " ('invalid password', 85),\n",
       " ('for client', 63),\n",
       " ('count synchronization', 53),\n",
       " ('synchronization for', 53),\n",
       " ('shutting down', 36),\n",
       " ('use password', 33),\n",
       " ('password authentication', 33),\n",
       " ('invoice for', 33),\n",
       " ('with number', 33),\n",
       " ('unhandled exception', 32),\n",
       " ('internal server', 32),\n",
       " ('server error', 32),\n",
       " ('broken pipe', 32),\n",
       " ('pipe at', 32),\n",
       " ('user does', 32),\n",
       " ('does not', 32),\n",
       " ('not use', 32),\n",
       " ('root bean', 32),\n",
       " ('not eligible', 32),\n",
       " ('eligible for', 32),\n",
       " ('from class', 31),\n",
       " ('class path', 31),\n",
       " ('path resource', 31),\n",
       " ('in month', 30),\n",
       " ('access is', 29),\n",
       " ('duplicate entry', 25),\n",
       " ('for key', 25),\n",
       " ('inner bean', 24),\n",
       " ('of type', 24),\n",
       " ('is already', 20)]"
      ]
     },
     "execution_count": 29,
     "metadata": {},
     "output_type": "execute_result"
    }
   ],
   "source": [
    "get_bigram_counter_from_all_words_file('timepot').most_common(60)"
   ]
  },
  {
   "cell_type": "code",
   "execution_count": 27,
   "metadata": {
    "pycharm": {
     "is_executing": false,
     "name": "#%%\n"
    }
   },
   "outputs": [
    {
     "data": {
      "text/plain": [
       "[('past due', 15691),\n",
       " ('bank handlowy', 9120),\n",
       " ('handlowy w', 9120),\n",
       " ('w warszawie', 9120),\n",
       " ('bank polski', 5923),\n",
       " ('ing bank', 5540),\n",
       " ('bank slaski', 5540),\n",
       " ('slaski sa', 4856),\n",
       " ('powszechna kasa', 3509),\n",
       " ('kasa oszczednosci', 3509)]"
      ]
     },
     "execution_count": 27,
     "metadata": {},
     "output_type": "execute_result"
    }
   ],
   "source": [
    "get_bigram_counter_words_from_all_words_file('braintree').most_common(10)"
   ]
  },
  {
   "cell_type": "code",
   "execution_count": 4,
   "metadata": {
    "pycharm": {
     "is_executing": false,
     "name": "#%%\n"
    }
   },
   "outputs": [
    {
     "data": {
      "image/png": "[encoded data removed]",
      "text/plain": [
       "<Figure size 720x432 with 1 Axes>"
      ]
     },
     "metadata": {
      "needs_background": "light"
     },
     "output_type": "display_data"
    }
   ],
   "source": [
    "plot_counter(get_bigram_counter_from_all_words_file('frontend'))"
   ]
  },
  {
   "cell_type": "code",
   "execution_count": 5,
   "metadata": {
    "pycharm": {
     "is_executing": false,
     "name": "#%%\n"
    }
   },
   "outputs": [
    {
     "data": {
      "image/png": "[encoded data removed]",
      "text/plain": [
       "<Figure size 720x432 with 1 Axes>"
      ]
     },
     "metadata": {
      "needs_background": "light"
     },
     "output_type": "display_data"
    }
   ],
   "source": [
    "plot_counter(get_bigram_counter_from_all_words_file('timepot'))"
   ]
  },
  {
   "cell_type": "code",
   "execution_count": 6,
   "metadata": {
    "pycharm": {
     "is_executing": false,
     "name": "#%%\n"
    }
   },
   "outputs": [
    {
     "data": {
      "image/png": "[encoded data removed]",
      "text/plain": [
       "<Figure size 720x432 with 1 Axes>"
      ]
     },
     "metadata": {
      "needs_background": "light"
     },
     "output_type": "display_data"
    }
   ],
   "source": [
    "plot_counter(get_bigram_counter_from_all_words_file('braintree'))"
   ]
  },
  {
   "cell_type": "code",
   "execution_count": 15,
   "metadata": {
    "pycharm": {
     "is_executing": false,
     "name": "#%%\n"
    }
   },
   "outputs": [
    {
     "data": {
      "text/plain": [
       "[('for type daily', 1439),\n",
       " ('selected start date', 817),\n",
       " ('type daily with', 721),\n",
       " ('daily with offset', 721),\n",
       " ('sync for company', 298),\n",
       " ('for type weekly', 188),\n",
       " ('user with id', 114),\n",
       " ('type weekly with', 96),\n",
       " ('weekly with offset', 96),\n",
       " ('access control expression', 92),\n",
       " ('control expression attribute', 92),\n",
       " ('count synchronization for', 53),\n",
       " ('use password authentication', 33),\n",
       " ('invoice for client', 33),\n",
       " ('internal server error', 32),\n",
       " ('broken pipe at', 32),\n",
       " ('user does not', 32),\n",
       " ('does not use', 32),\n",
       " ('not use password', 32),\n",
       " ('not eligible for', 32),\n",
       " ('from class path', 31),\n",
       " ('class path resource', 31),\n",
       " ('is already in', 20),\n",
       " ('already in use', 20),\n",
       " ('is not eligible', 16),\n",
       " ('eligible for getting', 16),\n",
       " ('onto public void', 16),\n",
       " ('message with key', 13),\n",
       " ('for locale en', 13),\n",
       " ('locale en not', 13),\n",
       " ('en not found', 13),\n",
       " ('to create directory', 12),\n",
       " ('connection reset by', 12),\n",
       " ('reset by peer', 12),\n",
       " ('by peer at', 12),\n",
       " ('in use for', 10),\n",
       " ('use for locale', 10),\n",
       " ('is shutting down', 8),\n",
       " ('could not stop', 8),\n",
       " ('not stop service', 8)]"
      ]
     },
     "execution_count": 15,
     "metadata": {},
     "output_type": "execute_result"
    }
   ],
   "source": [
    "get_trigram_counter_from_all_words_file('timepot').most_common(40)"
   ]
  },
  {
   "cell_type": "code",
   "execution_count": null,
   "metadata": {
    "pycharm": {
     "name": "#%%\n"
    }
   },
   "outputs": [],
   "source": [
    "\n"
   ]
  }
 ],
 "metadata": {
  "kernelspec": {
   "display_name": "Python 3",
   "language": "python",
   "name": "python3"
  },
  "language_info": {
   "codemirror_mode": {
    "name": "ipython",
    "version": 3
   },
   "file_extension": ".py",
   "mimetype": "text/x-python",
   "name": "python",
   "nbconvert_exporter": "python",
   "pygments_lexer": "ipython3",
   "version": "3.7.4"
  },
  "pycharm": {
   "stem_cell": {
    "cell_type": "raw",
    "metadata": {
     "collapsed": false
    },
    "source": []
   }
  }
 },
 "nbformat": 4,
 "nbformat_minor": 1
}
