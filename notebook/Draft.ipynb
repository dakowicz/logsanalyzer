{
 "cells": [
  {
   "cell_type": "code",
   "execution_count": 28,
   "metadata": {
    "pycharm": {
     "is_executing": false,
     "name": "#%%\n"
    }
   },
   "outputs": [],
   "source": [
    "import datetime\n",
    "import itertools\n",
    "import os\n",
    "\n",
    "def to_dates_count(x, y):\n",
    "    return dict(log_date=x, number_of=len(list(y)))\n",
    "\n",
    "\n",
    "def to_group_counter(x, y):\n",
    "    groupList = list(y)\n",
    "    return x, sum(map(lambda x, y: y, groupList))\n",
    "\n",
    "\n",
    "def group_by_date_and_count(x):\n",
    "    grouped = itertools.groupby(x, lambda x, _: x)\n",
    "    return map(lambda x, y: to_group_counter(x, y), grouped)\n",
    "\n",
    "rootPath = '../../dataset/'\n",
    "aggregated = []\n",
    "\n",
    "for filename in os.listdir(rootPath):\n",
    "    if filename.endswith('.log'):\n",
    "        filepath = rootPath + filename\n",
    "        f = open(filepath, \"r+\")\n",
    "        allLines = f.readlines()\n",
    "        loggingLevels = ['INFO', 'DEBUG', 'TRACE', 'ERROR']\n",
    "        filteredLines = []\n",
    "        parsedDates = []\n",
    "        for line in allLines:\n",
    "            if any(line.startswith(x) for x in loggingLevels):\n",
    "                filteredLines.append(line)\n",
    "                splittedLine = line.split(None, 3)\n",
    "                if splittedLine[1] != '' and splittedLine[2] != '':\n",
    "                    date = splittedLine[1] + splittedLine[2]\n",
    "                    parsedDate = datetime.datetime.strptime(date, '%Y-%m-%d%H:%M:%S.%f')\n",
    "                    parsedDates.append(parsedDate)\n",
    "        aggregated.extend(parsedDates)\n",
    "\n",
    "grouped = itertools.groupby(aggregated, lambda x: x.date())\n",
    "count_per_day = [*map(lambda x: to_dates_count(*x), grouped)]\n",
    "count_per_day.sort(key=lambda x: x[\"log_date\"])\n",
    "aggregated_dates = [x[\"log_date\"] for x in count_per_day]"
   ]
  },
  {
   "cell_type": "code",
   "execution_count": 29,
   "metadata": {
    "pycharm": {
     "is_executing": false,
     "name": "#%%\n"
    }
   },
   "outputs": [],
   "source": [
    "%matplotlib inline\n",
    "\n",
    "import matplotlib.dates as mdates\n",
    "import matplotlib.pyplot as plt"
   ]
  },
  {
   "cell_type": "code",
   "execution_count": 31,
   "metadata": {
    "pycharm": {
     "is_executing": false,
     "name": "#%%\n"
    }
   },
   "outputs": [
    {
     "data": {
      "text/plain": "[<matplotlib.lines.Line2D at 0x11d753910>]"
     },
     "metadata": {},
     "output_type": "execute_result",
     "execution_count": 31
    },
    {
     "data": {
      "text/plain": "<Figure size 432x288 with 1 Axes>",
      "image/png": "[encoded data removed]"
     },
     "metadata": {
      "needs_background": "light"
     },
     "output_type": "display_data"
    }
   ],
   "source": [
    "mat_dates = mdates.date2num(aggregated_dates)\n",
    "mat_values = [x[\"number_of\"] for x in count_per_day]\n",
    "plt.gca().xaxis.set_major_formatter(mdates.DateFormatter('%Y-%m-%d'))\n",
    "plt.gca().xaxis.set_major_locator(mdates.DayLocator(interval=2))\n",
    "plt.plot_date(mat_dates, mat_values, '-o')"
   ]
  },
  {
   "cell_type": "code",
   "execution_count": 24,
   "metadata": {
    "pycharm": {
     "name": "#%%\n",
     "is_executing": false
    }
   },
   "outputs": [],
   "source": []
  }
 ],
 "metadata": {
  "kernelspec": {
   "display_name": "Python 3",
   "language": "python",
   "name": "python3"
  },
  "language_info": {
   "codemirror_mode": {
    "name": "ipython",
    "version": 3
   },
   "file_extension": ".py",
   "mimetype": "text/x-python",
   "name": "python",
   "nbconvert_exporter": "python",
   "pygments_lexer": "ipython3",
   "version": "3.7.4"
  },
  "pycharm": {
   "stem_cell": {
    "cell_type": "raw",
    "source": [],
    "metadata": {
     "collapsed": false
    }
   }
  }
 },
 "nbformat": 4,
 "nbformat_minor": 1
}