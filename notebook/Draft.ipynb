{
 "cells": [
  {
   "cell_type": "code",
   "execution_count": 25,
   "metadata": {
    "pycharm": {
     "name": "#%%\n",
     "is_executing": false
    }
   },
   "outputs": [],
   "source": [
    "import datetime\n",
    "import itertools\n",
    "import os"
   ]
  },
  {
   "cell_type": "code",
   "execution_count": 26,
   "metadata": {
    "pycharm": {
     "is_executing": false
    }
   },
   "outputs": [],
   "source": [
    "def to_dates_count(x, y):\n",
    "    return dict(log_date=x, number_of=len(list(y)))\n",
    "\n",
    "\n",
    "def to_group_counter(x, y):\n",
    "    groupList = list(y)\n",
    "    return x, sum(map(lambda x, y: y, groupList))\n",
    "\n",
    "\n",
    "def group_by_date_and_count(x):\n",
    "    grouped = itertools.groupby(x, lambda x, _: x)\n",
    "    return map(lambda x, y: to_group_counter(x, y), grouped)"
   ]
  },
  {
   "cell_type": "code",
   "execution_count": 27,
   "metadata": {
    "pycharm": {
     "is_executing": false
    }
   },
   "outputs": [],
   "source": [
    "rootPath = '../../dataset/'"
   ]
  },
  {
   "cell_type": "code",
   "execution_count": 28,
   "metadata": {
    "pycharm": {
     "is_executing": false
    }
   },
   "outputs": [],
   "source": [
    "for filename in os.listdir(rootPath):\n",
    "    if filename.endswith('.log'):\n",
    "        filepath = rootPath + filename\n",
    "        f = open(filepath, \"r+\")\n",
    "        allLines = f.readlines()\n",
    "        loggingLevels = ['INFO', 'DEBUG', 'TRACE', 'ERROR']\n",
    "        filteredLines = []\n",
    "        parsedDates = []\n",
    "        for line in allLines:\n",
    "            if any(line.startswith(x) for x in loggingLevels):\n",
    "                filteredLines.append(line)\n",
    "                splittedLine = line.split(None, 3)\n",
    "                if splittedLine[1] != '' and splittedLine[2] != '':\n",
    "                    date = splittedLine[1] + splittedLine[2]\n",
    "                    parsedDate = datetime.datetime.strptime(date, '%Y-%m-%d%H:%M:%S.%f')\n",
    "                    parsedDates.append(parsedDate)"
   ]
  },
  {
   "cell_type": "code",
   "execution_count": 29,
   "metadata": {
    "pycharm": {
     "is_executing": false
    }
   },
   "outputs": [],
   "source": [
    "grouped = itertools.groupby(parsedDates, lambda x: x.date())"
   ]
  },
  {
   "cell_type": "code",
   "execution_count": 30,
   "metadata": {
    "pycharm": {
     "is_executing": false
    }
   },
   "outputs": [],
   "source": [
    "countOfDay = map(lambda x: to_dates_count(*x), grouped)"
   ]
  },
  {
   "cell_type": "code",
   "execution_count": 31,
   "outputs": [],
   "source": [
    "%matplotlib inline"
   ],
   "metadata": {
    "collapsed": false,
    "pycharm": {
     "name": "#%%\n",
     "is_executing": false
    }
   }
  },
  {
   "cell_type": "code",
   "execution_count": 32,
   "outputs": [],
   "source": [
    "import matplotlib\n",
    "import numpy as np\n",
    "import matplotlib.pyplot as plt"
   ],
   "metadata": {
    "collapsed": false,
    "pycharm": {
     "name": "#%%\n",
     "is_executing": false
    }
   }
  },
  {
   "cell_type": "code",
   "execution_count": 33,
   "outputs": [],
   "source": [
    "dates = map(lambda x: x[\"log_date\"], countOfDay)"
   ],
   "metadata": {
    "collapsed": false,
    "pycharm": {
     "name": "#%%\n",
     "is_executing": false
    }
   }
  },
  {
   "cell_type": "code",
   "execution_count": 34,
   "outputs": [
    {
     "data": {
      "text/plain": "[datetime.date(2019, 12, 15)]"
     },
     "metadata": {},
     "output_type": "execute_result",
     "execution_count": 34
    }
   ],
   "source": [
    "[*dates]"
   ],
   "metadata": {
    "collapsed": false,
    "pycharm": {
     "name": "#%%\n",
     "is_executing": false
    }
   }
  },
  {
   "cell_type": "code",
   "execution_count": 34,
   "outputs": [],
   "source": [
    "\n"
   ],
   "metadata": {
    "collapsed": false,
    "pycharm": {
     "name": "#%%\n",
     "is_executing": false
    }
   }
  }
 ],
 "metadata": {
  "kernelspec": {
   "name": "python3",
   "language": "python",
   "display_name": "Python 3"
  },
  "language_info": {
   "codemirror_mode": {
    "name": "ipython",
    "version": 3
   },
   "file_extension": ".py",
   "mimetype": "text/x-python",
   "name": "python",
   "nbconvert_exporter": "python",
   "pygments_lexer": "ipython3",
   "version": "3.7.4"
  },
  "pycharm": {
   "stem_cell": {
    "cell_type": "raw",
    "source": [],
    "metadata": {
     "collapsed": false
    }
   }
  }
 },
 "nbformat": 4,
 "nbformat_minor": 1
}