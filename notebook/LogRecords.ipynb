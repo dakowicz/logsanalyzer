{
 "cells": [
  {
   "cell_type": "code",
   "execution_count": null,
   "metadata": {
    "pycharm": {
     "is_executing": false
    }
   },
   "outputs": [],
   "source": [
    "import datetime \n",
    "import itertools\n",
    "import os\n",
    "\n",
    "import matplotlib.dates as mdates\n",
    "import matplotlib.pyplot as plt\n",
    "%matplotlib inline\n"
   ]
  },
  {
   "cell_type": "code",
   "execution_count": 20,
   "metadata": {
    "pycharm": {
     "is_executing": false,
     "name": "#%%\n"
    }
   },
   "outputs": [],
   "source": [
    "rootPath = '../../dataset-10/'\n",
    "loggingLevels = ['TRACE', 'DEBUG', 'INFO', 'WARN', 'ERROR']\n",
    "\n",
    "def plot_log_files_starting_with(file_prefix):\n",
    "    all_log_entries = get_all_log_entries(file_prefix)\n",
    "    \n",
    "    aggregated = [x['log_date'] for x in all_log_entries]\n",
    "    grouped = itertools.groupby(aggregated, lambda x: x.date())\n",
    "    count_per_day = [*map(lambda x: to_dates_count(*x), grouped)]\n",
    "    count_per_day.sort(key=lambda x: x[\"log_date\"])\n",
    "    aggregated_dates = [x[\"log_date\"] for x in count_per_day]\n",
    "    \n",
    "    mat_dates = mdates.date2num(aggregated_dates)\n",
    "    mat_values = [x[\"number_of\"] for x in count_per_day]\n",
    "    plt.gca().xaxis.set_major_formatter(mdates.DateFormatter('%Y-%m-%d'))\n",
    "    plt.gca().xaxis.set_major_locator(mdates.DayLocator(interval=7))\n",
    "    plt.plot_date(mat_dates, mat_values, '-o')\n",
    "    \n",
    "def get_all_log_entries(file_prefix):\n",
    "    all_log_entries = []\n",
    "    for filename in os.listdir(rootPath):\n",
    "        if filename.endswith('.log') and filename.startswith(file_prefix):\n",
    "            filepath = rootPath + filename\n",
    "            all_log_entries.extend(process_file(all_log_entries,filepath))\n",
    "    return all_log_entries\n",
    "    \n",
    "def process_file(all_log_entries, filepath):\n",
    "    f = open(filepath, \"r+\")\n",
    "    allLines = f.readlines()\n",
    "    parsedDates = []\n",
    "    logEntries = []\n",
    "    for line in allLines:\n",
    "        process_entry(filepath,line,logEntries,parsedDates)\n",
    "    f.close()\n",
    "    return logEntries\n",
    "    \n",
    "def process_entry(filepath, line, logEntries, parsedDates):\n",
    "    if any(line.startswith(x) for x in loggingLevels):\n",
    "        splittedLine = line.split(None, 6)\n",
    "        newEntry = dict(log_level = splittedLine[0])\n",
    "        process_date(newEntry,parsedDates,splittedLine)\n",
    "        process_thread_name(filepath,newEntry,splittedLine)\n",
    "        process_logger_name(newEntry,splittedLine)\n",
    "        newEntry['msg'] = splittedLine[6]\n",
    "        logEntries.append(newEntry)\n",
    "    else:\n",
    "        append_line_to_last_msg(line,logEntries)\n",
    "        \n",
    "def append_line_to_last_msg(line, logEntries):\n",
    "    if logEntries:\n",
    "        logEntries[-1]['msg'] = logEntries[-1]['msg'] + line\n",
    "\n",
    "def process_logger_name(newEntry, splittedLine):\n",
    "    if splittedLine[4] != '':\n",
    "        loggerName = splittedLine[4].split('.')[-1]\n",
    "        if loggerName != '':\n",
    "            newEntry['logger_name'] = loggerName\n",
    "    \n",
    "def process_thread_name(filepath, newEntry, splittedLine):\n",
    "    if splittedLine[3] != '':\n",
    "        if 'timepot' in filepath:\n",
    "            threadNameWithUserId = splittedLine[3].split('][uid:')\n",
    "            if len(threadNameWithUserId) > 0:\n",
    "                threadName = threadNameWithUserId[0].replace('[', '')\n",
    "                if threadName != '':\n",
    "                    newEntry['thread_name'] = threadName\n",
    "            if len(threadNameWithUserId) > 1: \n",
    "                userId = threadNameWithUserId[1].replace(']', '')\n",
    "                if userId.isdigit():\n",
    "                    newEntry['user_id'] = userId\n",
    "        else:\n",
    "            threadName = splittedLine[3][1:-1]\n",
    "            if threadName != '':\n",
    "                newEntry['thread_name'] = threadName\n",
    "                \n",
    "def process_date(newEntry, parsedDates, splittedLine):\n",
    "    if splittedLine[1] != '' and splittedLine[2] != '':\n",
    "        parsedDate = datetime.datetime.strptime(splittedLine[1] + splittedLine[2], '%Y-%m-%d%H:%M:%S.%f')\n",
    "        parsedDates.append(parsedDate)\n",
    "        newEntry['log_date'] = parsedDate\n",
    "    \n",
    "def to_dates_count(x, y):\n",
    "    return dict(log_date=x, number_of=len(list(y)))"
   ]
  },
  {
   "cell_type": "code",
   "execution_count": 21,
   "metadata": {
    "pycharm": {
     "is_executing": false,
     "name": "#%%\n"
    }
   },
   "outputs": [],
   "source": [
    "def plot_log_files_histogram_starting_with(file_prefix):\n",
    "    all_log_entries = get_all_log_entries(file_prefix)\n",
    "    \n",
    "    aggregated = [x['log_date'] for x in all_log_entries]\n",
    "    aggregated.sort(key=lambda x: to_total_minutes_time_slot(x))\n",
    "    grouped = itertools.groupby(aggregated, key=lambda x: to_total_minutes_time_slot(x))\n",
    "    count_per_day = [*map(lambda x: to_time_slots(*x), grouped)]\n",
    "    mat_values = []\n",
    "    for ts in range(0, 49): \n",
    "        number_of = filter(lambda x: x[\"time_slot\"] == ts, count_per_day)\n",
    "        mat_values.append(next(map(lambda x: x[\"number_of\"], number_of), 0))\n",
    "    \n",
    "def to_total_minutes_time_slot(dt):\n",
    "    total_minutes = (dt.hour * 60) + dt.minute\n",
    "    return int(total_minutes / 30)\n",
    "    \n",
    "def to_time_slots(x, y):\n",
    "    return dict(time_slot=x, number_of=len(list(y)))   "
   ]
  },
  {
   "cell_type": "markdown",
   "metadata": {},
   "source": [
    "## Liczba wpisów logów timepot.*.log \n",
    "Główne logi aplikacji Springowej, łącznie z wyjątkami oraz niektórymi zapytaniami SQL "
   ]
  },
  {
   "cell_type": "code",
   "execution_count": 22,
   "metadata": {
    "pycharm": {
     "is_executing": false,
     "name": "#%%\n"
    }
   },
   "outputs": [
    {
     "data": {
      "text/plain": "<Figure size 432x288 with 1 Axes>",
      "image/png": "[encoded data removed]"
     },
     "metadata": {
      "needs_background": "light"
     },
     "output_type": "display_data"
    }
   ],
   "source": [
    "plot_log_files_starting_with('timepot.2019-10')"
   ]
  },
  {
   "cell_type": "markdown",
   "metadata": {},
   "source": [
    "## Liczba wpisów logów message.*.log\n",
    "Komunikacja przychodząca HTTP po REST"
   ]
  },
  {
   "cell_type": "code",
   "execution_count": null,
   "metadata": {
    "pycharm": {
     "is_executing": true
    }
   },
   "outputs": [],
   "source": [
    "plot_log_files_starting_with('message.2019-10')"
   ]
  },
  {
   "cell_type": "markdown",
   "metadata": {},
   "source": [
    "## Liczba wpisów logów frontend.*.log\n",
    "Dodatkowe logi frontendowe (najczęściej zawierające wystąpienia błędów) przesyłane poprzez dedykowaną usługę"
   ]
  },
  {
   "cell_type": "code",
   "execution_count": null,
   "metadata": {
    "pycharm": {
     "is_executing": false
    }
   },
   "outputs": [],
   "source": [
    "plot_log_files_starting_with('frontend.2019-10')"
   ]
  },
  {
   "cell_type": "markdown",
   "metadata": {},
   "source": [
    "## Liczba wpisów logów braintree.*.log\n",
    "Integracja z systemem płatności Braintree"
   ]
  },
  {
   "cell_type": "code",
   "execution_count": null,
   "metadata": {
    "pycharm": {
     "is_executing": false
    }
   },
   "outputs": [],
   "source": [
    "plot_log_files_starting_with('braintree.2019-03')"
   ]
  },
  {
   "cell_type": "code",
   "execution_count": 23,
   "metadata": {
    "pycharm": {
     "is_executing": false
    }
   },
   "outputs": [],
   "source": [
    "plot_log_files_histogram_starting_with('timepot.2019-10')"
   ]
  },
  {
   "cell_type": "code",
   "execution_count": null,
   "metadata": {
    "pycharm": {
     "is_executing": false
    }
   },
   "outputs": [],
   "source": [
    "plot_log_files_histogram_starting_with('message.2019-10')"
   ]
  },
  {
   "cell_type": "code",
   "execution_count": null,
   "outputs": [],
   "source": [
    "plot_log_files_histogram_starting_with('frontend.2019-10')"
   ],
   "metadata": {
    "collapsed": false,
    "pycharm": {
     "name": "#%%\n",
     "is_executing": false
    }
   }
  },
  {
   "cell_type": "code",
   "execution_count": null,
   "outputs": [],
   "source": [
    "plot_log_files_histogram_starting_with('braintree.2019-10')\n"
   ],
   "metadata": {
    "collapsed": false,
    "pycharm": {
     "name": "#%%\n",
     "is_executing": true
    }
   }
  }
 ],
 "metadata": {
  "kernelspec": {
   "display_name": "Python 3",
   "language": "python",
   "name": "python3"
  },
  "language_info": {
   "codemirror_mode": {
    "name": "ipython",
    "version": 3
   },
   "file_extension": ".py",
   "mimetype": "text/x-python",
   "name": "python",
   "nbconvert_exporter": "python",
   "pygments_lexer": "ipython3",
   "version": "3.7.4"
  },
  "pycharm": {
   "stem_cell": {
    "cell_type": "raw",
    "source": [],
    "metadata": {
     "collapsed": false
    }
   }
  }
 },
 "nbformat": 4,
 "nbformat_minor": 1
}