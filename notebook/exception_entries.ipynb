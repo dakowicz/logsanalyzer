{
 "cells": [
  {
   "cell_type": "code",
   "execution_count": null,
   "metadata": {
    "collapsed": true,
    "pycharm": {
     "is_executing": false
    }
   },
   "outputs": [],
   "source": [
    "from collections import Counter\n",
    "\n",
    "import nltk\n",
    "from ipynb.fs.full.log_entries import get_all_log_entries\n",
    "import matplotlib.dates as mdates\n",
    "import matplotlib.pyplot as plt\n",
    "\n",
    "%matplotlib inline\n",
    "nltk.download('punkt')"
   ]
  },
  {
   "cell_type": "code",
   "execution_count": null,
   "metadata": {
    "pycharm": {
     "is_executing": false,
     "name": "#%%\n"
    }
   },
   "outputs": [],
   "source": [
    "def timepot_thrown_exception_counter():\n",
    "    filename_prefix = 'timepot'\n",
    "    exception_java_class_counter = Counter()\n",
    "    entries = get_all_log_entries(filename_prefix)\n",
    "    for entry in entries:\n",
    "        tokenized_msg = nltk.word_tokenize(entry['msg'])\n",
    "        is_exception_entry = False\n",
    "        for token in tokenized_msg:\n",
    "            if token.endswith('Exception'):\n",
    "                subtokens = token.split(sep = '.')\n",
    "                exception_java_class = subtokens[-1]\n",
    "                if exception_java_class[0].isupper():\n",
    "                    exception_java_class_counter[exception_java_class] += 1\n",
    "                    is_exception_entry = True\n",
    "            if is_exception_entry is True:\n",
    "                break\n",
    "    return exception_java_class_counter"
   ]
  },
  {
   "cell_type": "code",
   "execution_count": null,
   "metadata": {
    "pycharm": {
     "is_executing": false,
     "name": "#%%\n"
    }
   },
   "outputs": [],
   "source": [
    "def is_exception_entry(entry):\n",
    "    tokenized_msg = nltk.word_tokenize(entry['msg'])\n",
    "    for token in tokenized_msg:\n",
    "        if token.endswith('Exception'):\n",
    "            subtokens = token.split(sep = '.')\n",
    "            exception_java_class = subtokens[-1]\n",
    "            if exception_java_class[0].isupper():\n",
    "                return True\n",
    "    return False\n",
    "\n",
    "def timepot_thrown_exceptions_per_day_counter():\n",
    "    filename_prefix = 'timepot'\n",
    "    exception_per_day_counter = Counter()\n",
    "    all_entries_counter = Counter()\n",
    "    entries = get_all_log_entries(filename_prefix)\n",
    "    for entry in entries:\n",
    "        entry_log_date = entry['log_date'].date()\n",
    "        all_entries_counter[entry_log_date] += 1\n",
    "        if is_exception_entry(entry):\n",
    "            exception_per_day_counter[entry_log_date] += 1\n",
    "    return exception_per_day_counter, all_entries_counter"
   ]
  },
  {
   "cell_type": "code",
   "execution_count": null,
   "metadata": {
    "pycharm": {
     "is_executing": false,
     "name": "#%%\n"
    }
   },
   "outputs": [],
   "source": [
    "def plot_thrown_exception_count_distribution():\n",
    "    per_day_counter, all_entries_counter = timepot_thrown_exceptions_per_day_counter()\n",
    "    per_day_counter_sorted = sorted(per_day_counter.items(), key=lambda x: x[0])\n",
    "    \n",
    "    mat_dates = mdates.date2num([x[0] for x in per_day_counter_sorted])\n",
    "    mat_values = [x[1] for x in per_day_counter_sorted]\n",
    "    \n",
    "    plt.figure(figsize=(10, 6))\n",
    "    plt.grid(True)\n",
    "    plt.gca().xaxis.set_major_formatter(mdates.DateFormatter('%Y-%m-%d'))\n",
    "    plt.gca().xaxis.set_major_locator(mdates.DayLocator(interval=7))\n",
    "    plt.plot_date(mat_dates, mat_values, '-o')"
   ]
  },
  {
   "cell_type": "code",
   "execution_count": null,
   "outputs": [],
   "source": [
    "def plot_thrown_exception_percentage_distribution():\n",
    "    per_day_counter, all_entries_counter = timepot_thrown_exceptions_per_day_counter()\n",
    "    per_day_counter_sorted = sorted(per_day_counter.items(), key=lambda x: x[0])\n",
    "    all_entries_counter_sorted = sorted(all_entries_counter.items(), key=lambda x: x[0])\n",
    "    \n",
    "    mat_dates = mdates.date2num([x[0] for x in per_day_counter_sorted[1:]])\n",
    "    mat_values = [x[1]/y[1] * 100 for x, y in zip(per_day_counter_sorted[1:], all_entries_counter_sorted[1:])]\n",
    "    \n",
    "    plt.figure(figsize=(10, 6))\n",
    "    plt.grid(True)\n",
    "    plt.gca().xaxis.set_major_formatter(mdates.DateFormatter('%Y-%m-%d'))\n",
    "    plt.gca().xaxis.set_major_locator(mdates.DayLocator(interval=7))\n",
    "    plt.plot_date(mat_dates, mat_values, '-o')"
   ],
   "metadata": {
    "collapsed": false,
    "pycharm": {
     "name": "#%%\n",
     "is_executing": false
    }
   }
  }
 ],
 "metadata": {
  "kernelspec": {
   "display_name": "Python 3",
   "language": "python",
   "name": "python3"
  },
  "language_info": {
   "codemirror_mode": {
    "name": "ipython",
    "version": 3
   },
   "file_extension": ".py",
   "mimetype": "text/x-python",
   "name": "python",
   "nbconvert_exporter": "python",
   "pygments_lexer": "ipython3",
   "version": "3.7.4"
  },
  "pycharm": {
   "stem_cell": {
    "cell_type": "raw",
    "source": [],
    "metadata": {
     "collapsed": false
    }
   }
  }
 },
 "nbformat": 4,
 "nbformat_minor": 1
}